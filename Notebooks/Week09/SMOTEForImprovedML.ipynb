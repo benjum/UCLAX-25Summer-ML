{
 "cells": [
  {
   "cell_type": "markdown",
   "id": "b793bf29",
   "metadata": {},
   "source": [
    "\n",
    "# SMOTE: Improving Minority-Class Performance\n",
    "\n",
    "This notebook shows how to use **SMOTE (Synthetic Minority Over-Sampling Technique)** on an imbalanced binary classification problem.\n",
    "\n",
    "Note: You should install `imbalanced-learn` if you do not have it.\n"
   ]
  },
  {
   "cell_type": "code",
   "execution_count": null,
   "id": "10037d81",
   "metadata": {},
   "outputs": [],
   "source": [
    "import matplotlib.pyplot as plt\n",
    "import numpy as np\n",
    "import warnings; warnings.filterwarnings(\"ignore\")\n",
    "from collections import Counter\n",
    "\n",
    "from sklearn.datasets import make_classification\n",
    "from sklearn.model_selection import train_test_split\n",
    "from sklearn.tree import DecisionTreeClassifier\n",
    "from sklearn.linear_model import LogisticRegression\n",
    "from sklearn.metrics import classification_report, roc_auc_score, precision_score, recall_score\n",
    "from sklearn.model_selection import GridSearchCV\n",
    "\n",
    "from imblearn.over_sampling import SMOTE\n",
    "from imblearn.pipeline import Pipeline"
   ]
  },
  {
   "cell_type": "code",
   "execution_count": null,
   "id": "c75eb79b",
   "metadata": {},
   "outputs": [],
   "source": [
    "# create a binary classification dataset\n",
    "x, y = make_classification(\n",
    "    n_samples=1000,\n",
    "    n_features=2,\n",
    "    n_redundant=0,\n",
    "    n_clusters_per_class=1,\n",
    "    weights=[0.98, 0.02],\n",
    "    random_state=125,\n",
    ")\n",
    "\n",
    "# another to try afterwards\n",
    "# x, y = make_classification(\n",
    "#     n_samples=3000,\n",
    "#     n_features=5,\n",
    "#     n_informative=5,\n",
    "#     n_redundant=0,\n",
    "#     n_repeated=0,\n",
    "#     n_classes=2,\n",
    "#     n_clusters_per_class=1,\n",
    "#     weights=[0.95, 0.05],\n",
    "#     class_sep=0.5,\n",
    "#     flip_y=0.0,\n",
    "#     random_state=42\n",
    "# )\n",
    "\n",
    "\n",
    "labels = Counter(y)\n",
    "print(\"y labels after oversampling\")\n",
    "print(labels)"
   ]
  },
  {
   "cell_type": "code",
   "execution_count": null,
   "id": "1676bddf",
   "metadata": {},
   "outputs": [],
   "source": [
    "plt.scatter(x[:, 0], x[:, 1], marker=\"o\", c=y, edgecolor=\"k\");"
   ]
  },
  {
   "cell_type": "code",
   "execution_count": null,
   "id": "28425b42",
   "metadata": {},
   "outputs": [],
   "source": [
    "x_train, x_test, y_train, y_test = train_test_split(x, y, test_size=0.2, random_state=42, stratify=y)"
   ]
  },
  {
   "cell_type": "code",
   "execution_count": null,
   "id": "9f6cf33a",
   "metadata": {},
   "outputs": [],
   "source": [
    "model = DecisionTreeClassifier()\n",
    "\n",
    "model.fit(x_train, y_train)\n",
    "\n",
    "precision_score_tree_nosmote = precision_score(y_test, model.predict(x_test), pos_label=1)\n",
    "recall_score_tree_nosmote = recall_score(y_test, model.predict(x_test), pos_label=1)\n",
    "auc_bin = roc_auc_score(y_test, model.predict_proba(x_test)[:,1])\n",
    "print(f\"No-SMOTE model, Precision (1) = {precision_score_tree_nosmote:.3f}\")\n",
    "print(f\"No-SMOTE model, Recall (1) = {recall_score_tree_nosmote:.3f}\")\n",
    "print(f\"No-SMOTE model, ROC AUC = {auc_bin:.3f}\")\n",
    "\n",
    "print(\"Classification report:\")\n",
    "print(classification_report(y_test, model.predict(x_test)))"
   ]
  },
  {
   "cell_type": "code",
   "execution_count": null,
   "id": "8ecd809c",
   "metadata": {},
   "outputs": [],
   "source": [
    "model = LogisticRegression()\n",
    "\n",
    "model.fit(x_train, y_train)\n",
    "\n",
    "precision_score_lr_nosmote = precision_score(y_test, model.predict(x_test), pos_label=1)\n",
    "recall_score_lr_nosmote = recall_score(y_test, model.predict(x_test), pos_label=1)\n",
    "auc_bin = roc_auc_score(y_test, model.predict_proba(x_test)[:,1])\n",
    "print(f\"No-SMOTE model, Precision (1) = {precision_score_lr_nosmote:.3f}\")\n",
    "print(f\"No-SMOTE model, Recall (1) = {recall_score_lr_nosmote:.3f}\")\n",
    "print(f\"No-SMOTE model, ROC AUC = {auc_bin:.3f}\")\n",
    "\n",
    "print(\"Classification report:\")\n",
    "print(classification_report(y_test, model.predict(x_test)))"
   ]
  },
  {
   "cell_type": "code",
   "execution_count": null,
   "id": "e4ac9177",
   "metadata": {},
   "outputs": [],
   "source": [
    "over = SMOTE()\n",
    "\n",
    "x_train_smote, y_train_smote = over.fit_resample(x_train, y_train)\n",
    "\n",
    "labels = Counter(y_train_smote)\n",
    "print(\"y labels after oversampling\")\n",
    "print(labels)"
   ]
  },
  {
   "cell_type": "code",
   "execution_count": null,
   "id": "61aa71c8",
   "metadata": {},
   "outputs": [],
   "source": [
    "plt.scatter(x_train_smote[:, 0], x_train_smote[:, 1], marker=\"o\", c=y_train_smote, edgecolor=\"k\");"
   ]
  },
  {
   "cell_type": "code",
   "execution_count": null,
   "id": "d2daa1b0",
   "metadata": {},
   "outputs": [],
   "source": [
    "model = DecisionTreeClassifier()\n",
    "\n",
    "model.fit(x_train_smote, y_train_smote)\n",
    "\n",
    "precision_score_tree_smote = precision_score(y_test, model.predict(x_test), pos_label=1)\n",
    "recall_score_tree_smote = recall_score(y_test, model.predict(x_test), pos_label=1)\n",
    "auc_bin = roc_auc_score(y_test, model.predict_proba(x_test)[:,1])\n",
    "print(f\"SMOTE model, Precision (1) = {precision_score_tree_smote:.3f}\")\n",
    "print(f\"SMOTE model, Recall (1) = {recall_score_tree_smote:.3f}\")\n",
    "print(f\"SMOTE model, ROC AUC = {auc_bin:.3f}\")\n",
    "\n",
    "print(\"Classification report:\")\n",
    "print(classification_report(y_test, model.predict(x_test)))"
   ]
  },
  {
   "cell_type": "code",
   "execution_count": null,
   "id": "118d9dd0",
   "metadata": {},
   "outputs": [],
   "source": [
    "model = LogisticRegression()\n",
    "\n",
    "model.fit(x_train_smote, y_train_smote)\n",
    "\n",
    "precision_score_lr_smote = precision_score(y_test, model.predict(x_test), pos_label=1)\n",
    "recall_score_lr_smote = recall_score(y_test, model.predict(x_test), pos_label=1)\n",
    "auc_bin = roc_auc_score(y_test, model.predict_proba(x_test)[:,1])\n",
    "print(f\"SMOTE model, Precision (1) = {precision_score_lr_smote:.3f}\")\n",
    "print(f\"SMOTE model, Recall (1) = {recall_score_lr_smote:.3f}\")\n",
    "print(f\"SMOTE model, ROC AUC = {auc_bin:.3f}\")\n",
    "\n",
    "print(\"Classification report:\")\n",
    "print(classification_report(y_test, model.predict(x_test)))"
   ]
  },
  {
   "cell_type": "markdown",
   "id": "8a70f2c4",
   "metadata": {},
   "source": [
    "| Model  | SMOTE | Precision | Recall | ROC AUC |\n",
    "| -----  | ----- | ----- | ----- | ----- |\n",
    "| Tree   | No    | 0.000      | 0.000   | 0.474    |\n",
    "|        | Yes   | 0.032      | 0.167   | 0.506    |\n",
    "| LogReg | No    | 0.000      | 0.000   | 0.821   |\n",
    "|        | Yes   | 0.102      | 0.833   | 0.878    |"
   ]
  },
  {
   "cell_type": "code",
   "execution_count": null,
   "id": "bd8f5da0",
   "metadata": {},
   "outputs": [],
   "source": [
    "# MUST BE CAREFUL\n",
    "# Use imblearn.pipeline.Pipeline\n",
    "# So that during the predict / scoring, the original data is used rather than the sampled data\n",
    "\n",
    "model = Pipeline([\n",
    "        ('sampling', SMOTE()),\n",
    "        ('classification', LogisticRegression())\n",
    "    ])\n",
    "\n",
    "params = {\n",
    "    'classification__C': [0.1, 1, 10]\n",
    "}\n",
    "\n",
    "grid = GridSearchCV(model,\n",
    "                    param_grid=params,\n",
    "                    scoring='roc_auc',\n",
    "                    cv=5)\n",
    "\n",
    "grid.fit(x_train, y_train)\n",
    "\n",
    "cv_results = grid.cv_results_\n",
    "best_index = grid.best_index_\n",
    "mean_test_score = cv_results['mean_test_score'][best_index]\n",
    "\n",
    "#print(\"Mean ROC AUC of best model: %.3f\" % mean_test_score)\n",
    "#print(\"Classification report:\")\n",
    "#print(classification_report(y_test, grid.predict(x_test)))"
   ]
  },
  {
   "cell_type": "code",
   "execution_count": null,
   "id": "9f9287a8",
   "metadata": {},
   "outputs": [],
   "source": [
    "precision_score_lr_smote = precision_score(y_test, grid.predict(x_test), pos_label=1)\n",
    "recall_score_lr_smote = recall_score(y_test, grid.predict(x_test), pos_label=1)\n",
    "auc_bin = roc_auc_score(y_test, grid.predict_proba(x_test)[:,1])\n",
    "print(f\"SMOTE grid, Precision (1) = {precision_score_lr_smote:.3f}\")\n",
    "print(f\"SMOTE grid, Recall (1) = {recall_score_lr_smote:.3f}\")\n",
    "print(f\"SMOTE grid, ROC AUC = {auc_bin:.3f}\")\n",
    "\n",
    "print(\"Classification report:\")\n",
    "print(classification_report(y_test, grid.predict(x_test)))"
   ]
  },
  {
   "cell_type": "markdown",
   "id": "8ed150f6",
   "metadata": {},
   "source": [
    "| Model  | SMOTE | Precision | Recall | ROC AUC |\n",
    "| -----  | ----- | ----- | ----- | ----- |\n",
    "| Tree   | No    | 0.000      | 0.000   | 0.474    |\n",
    "|        | Yes   | 0.032      | 0.167   | 0.506    |\n",
    "| LogReg | No    | 0.000      | 0.000   | 0.821   |\n",
    "|        | Yes   | 0.102      | 0.833   | 0.878    |\n",
    "| LRGrid | Yes   | 0.102      | 0.833   | 0.881    |"
   ]
  },
  {
   "cell_type": "markdown",
   "id": "370d7341",
   "metadata": {},
   "source": [
    "\n",
    "## Notes\n",
    "\n",
    "- SMOTE synthesizes new minority-class samples only on the training set, helping the model learn a better boundary.\n",
    "- You should never apply SMOTE (or any resampling) to the test set.\n",
    "- Expect recall for the minority class to improve the most. Precision may go up or down depending on the problem.\n",
    "- Always compare using a fixed test set and consider scoring metrics for the minority class like ROC-AUC, precision, recall, or others suited to your domain.\n"
   ]
  }
 ],
 "metadata": {
  "kernelspec": {
   "display_name": "Python 3 (ipykernel)",
   "language": "python",
   "name": "python3"
  },
  "language_info": {
   "codemirror_mode": {
    "name": "ipython",
    "version": 3
   },
   "file_extension": ".py",
   "mimetype": "text/x-python",
   "name": "python",
   "nbconvert_exporter": "python",
   "pygments_lexer": "ipython3",
   "version": "3.10.18"
  }
 },
 "nbformat": 4,
 "nbformat_minor": 5
}
