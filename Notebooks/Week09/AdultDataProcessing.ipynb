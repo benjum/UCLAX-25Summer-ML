{
 "cells": [
  {
   "cell_type": "markdown",
   "id": "3746cda7",
   "metadata": {},
   "source": [
    "# A brief introduction to data issues one might encounter"
   ]
  },
  {
   "cell_type": "markdown",
   "id": "9d8029d6-3fff-49c4-aee0-4035b4f32374",
   "metadata": {},
   "source": [
    "The Adult dataset:  https://archive.ics.uci.edu/dataset/2/adult\n",
    "\n",
    "This was part of our first assignment."
   ]
  },
  {
   "cell_type": "code",
   "execution_count": null,
   "id": "50cb357a",
   "metadata": {},
   "outputs": [],
   "source": [
    "import matplotlib.pyplot as plt\n",
    "import pandas as pd\n",
    "import seaborn as sns\n",
    "import numpy as np\n",
    "import ipywidgets\n",
    "\n",
    "from ucimlrepo import fetch_ucirepo"
   ]
  },
  {
   "cell_type": "markdown",
   "id": "9940582a",
   "metadata": {},
   "source": [
    "## Importing the data"
   ]
  },
  {
   "cell_type": "code",
   "execution_count": null,
   "id": "248e2e4b-99e5-4a3e-abd8-e629b6adab89",
   "metadata": {},
   "outputs": [],
   "source": [
    "# fetch dataset \n",
    "adult = fetch_ucirepo(id=2) \n",
    "\n",
    "# let's start with the original data\n",
    "data = adult.data.original\n",
    "\n",
    "# data (as pandas dataframes) \n",
    "# x = adult.data.features \n",
    "# y = adult.data.targets \n",
    "  \n",
    "# # metadata \n",
    "# print(adult.metadata) \n",
    "  \n",
    "# # variable information \n",
    "# print(adult.variables) \n"
   ]
  },
  {
   "cell_type": "markdown",
   "id": "3764e485",
   "metadata": {},
   "source": [
    "## Figuring out what we're working with"
   ]
  },
  {
   "cell_type": "code",
   "execution_count": null,
   "id": "6d41a5b6",
   "metadata": {},
   "outputs": [],
   "source": [
    "data.info()"
   ]
  },
  {
   "cell_type": "code",
   "execution_count": null,
   "id": "7b3dc4c4-4fa6-4694-96fe-003d4a26cec9",
   "metadata": {},
   "outputs": [],
   "source": [
    "data.head()"
   ]
  },
  {
   "cell_type": "markdown",
   "id": "153f20b2",
   "metadata": {},
   "source": [
    "## What are our features? and what is our target?"
   ]
  },
  {
   "cell_type": "code",
   "execution_count": null,
   "id": "acd01e56-8e93-44dc-a99d-62b9b6bc4d03",
   "metadata": {},
   "outputs": [],
   "source": [
    "data['income'].value_counts()"
   ]
  },
  {
   "cell_type": "markdown",
   "id": "b08384cc-1534-4a0c-a9c7-a6fc7a6e3888",
   "metadata": {},
   "source": [
    "Wait!\n",
    "  * redundant target values?\n",
    "  * imbalanced data?"
   ]
  },
  {
   "cell_type": "code",
   "execution_count": null,
   "id": "3f206a2b-b618-494a-a195-2702b0f9db06",
   "metadata": {},
   "outputs": [],
   "source": [
    "data['income_binary'] = data['income'].map({'<=50K':0,\n",
    "                                            '<=50K.':0,\n",
    "                                            '>50K':1,\n",
    "                                            '>50K.':1})"
   ]
  },
  {
   "cell_type": "code",
   "execution_count": null,
   "id": "8ba21752-0e83-4614-b454-27ef03e3c1df",
   "metadata": {},
   "outputs": [],
   "source": [
    "data['income_binary'].value_counts()"
   ]
  },
  {
   "cell_type": "code",
   "execution_count": null,
   "id": "62fbac67-5011-45bf-9c40-796b1b4ec7d5",
   "metadata": {},
   "outputs": [],
   "source": [
    "data['income_binary'].value_counts(normalize=True)"
   ]
  },
  {
   "cell_type": "code",
   "execution_count": null,
   "id": "da2017de",
   "metadata": {},
   "outputs": [],
   "source": [
    "def printuniq(c = 'age'):\n",
    "    print(data[c].sort_values().unique())\n",
    "\n",
    "ipywidgets.interact(printuniq, c=ipywidgets.Dropdown(options=data.columns));"
   ]
  },
  {
   "cell_type": "markdown",
   "id": "c5e83970",
   "metadata": {},
   "source": [
    "## How do the features play out against the target?"
   ]
  },
  {
   "cell_type": "code",
   "execution_count": null,
   "id": "86051887-431c-40cc-940f-f20e3718f8ff",
   "metadata": {},
   "outputs": [],
   "source": [
    "sns.histplot(data=data, \n",
    "             y='workclass', \n",
    "             hue='income')"
   ]
  },
  {
   "cell_type": "code",
   "execution_count": null,
   "id": "373839c9-d34d-456f-8109-360f5eb47a88",
   "metadata": {},
   "outputs": [],
   "source": [
    "sns.histplot(data=data, \n",
    "             y='workclass', \n",
    "             hue='income_binary')"
   ]
  },
  {
   "cell_type": "code",
   "execution_count": null,
   "id": "2131a3c5-1393-4797-a28d-333473c2361d",
   "metadata": {},
   "outputs": [],
   "source": [
    "sns.histplot(data=data, \n",
    "             y='workclass', \n",
    "             hue='income_binary',\n",
    "             multiple='stack')"
   ]
  },
  {
   "cell_type": "code",
   "execution_count": null,
   "id": "aaa2d1b3-df19-4e79-b812-4079e539f243",
   "metadata": {},
   "outputs": [],
   "source": [
    "sns.histplot(data=data, \n",
    "             y='workclass', \n",
    "             hue='income_binary',\n",
    "             multiple='fill')"
   ]
  },
  {
   "cell_type": "code",
   "execution_count": null,
   "id": "5e6bb90c-ed76-4dff-8a5e-b88ebf3459eb",
   "metadata": {},
   "outputs": [],
   "source": [
    "sns.histplot(data=data, \n",
    "             y='sex', \n",
    "             hue='income_binary',\n",
    "             multiple='dodge',shrink=0.8)"
   ]
  },
  {
   "cell_type": "code",
   "execution_count": null,
   "id": "e117d0ce-cd9f-4a11-971b-59ccb5b1b987",
   "metadata": {},
   "outputs": [],
   "source": [
    "sns.countplot(data=data, \n",
    "             y='sex', \n",
    "             hue='income_binary')"
   ]
  },
  {
   "cell_type": "code",
   "execution_count": null,
   "id": "1997e8cf-1fae-4091-ad92-c0528ff6b290",
   "metadata": {},
   "outputs": [],
   "source": [
    "def varcountplot(c='age'):\n",
    "    sns.histplot(data=data, \n",
    "                 y=c, \n",
    "                 hue='income_binary',\n",
    "                multiple='fill')\n",
    "\n",
    "ipywidgets.interactive(varcountplot,c=data.columns)"
   ]
  },
  {
   "cell_type": "code",
   "execution_count": null,
   "id": "3c5d6c73-f212-4c2c-999b-c41bda9f3c36",
   "metadata": {},
   "outputs": [],
   "source": [
    "def varcountplot(c='age'):\n",
    "    sns.histplot(data=data, \n",
    "                 y=c, \n",
    "                 hue='income_binary',\n",
    "                multiple='stack')\n",
    "\n",
    "ipywidgets.interactive(varcountplot,c=data.columns)"
   ]
  },
  {
   "cell_type": "code",
   "execution_count": null,
   "id": "c2696fb1-2d1e-4ad1-9843-ce89ba2081db",
   "metadata": {},
   "outputs": [],
   "source": [
    "data['capital-loss'].value_counts()"
   ]
  },
  {
   "cell_type": "code",
   "execution_count": null,
   "id": "d4828269-c060-4b1e-9e70-863ea1d40ac7",
   "metadata": {},
   "outputs": [],
   "source": [
    "data['capital-gain'].value_counts()"
   ]
  },
  {
   "cell_type": "code",
   "execution_count": null,
   "id": "567222b5-244a-4023-9409-244680eb5f0b",
   "metadata": {},
   "outputs": [],
   "source": [
    "data['native-country'].value_counts()"
   ]
  },
  {
   "cell_type": "markdown",
   "id": "53db160a-0a37-4662-ad50-492b78a2e6e4",
   "metadata": {},
   "source": [
    "# Binning"
   ]
  },
  {
   "cell_type": "code",
   "execution_count": null,
   "id": "33b535af-95e4-4ff8-a591-e9df82e43308",
   "metadata": {},
   "outputs": [],
   "source": [
    "data['age'].hist()"
   ]
  },
  {
   "cell_type": "code",
   "execution_count": null,
   "id": "c0f401d5-aeb7-4a3f-ab78-5e94b5a72fd2",
   "metadata": {},
   "outputs": [],
   "source": [
    "# These are the quartiles\n",
    "data['age'].describe()"
   ]
  },
  {
   "cell_type": "markdown",
   "id": "4e316f36-2c10-463e-b3c2-c2bfbd4803f3",
   "metadata": {},
   "source": [
    "### Version 1: using pd.cut\n",
    "\n"
   ]
  },
  {
   "cell_type": "code",
   "execution_count": null,
   "id": "6c4e1b98",
   "metadata": {},
   "outputs": [],
   "source": [
    "bins = [17.0, 28.0, 37.0, 48.0, 90.0]\n",
    "labels = ['17-28', '28-37', '37-48', '48-90']\n",
    "\n",
    "data['ageCat1'] = pd.cut(data['age'],\n",
    "                         bins=bins,\n",
    "                         labels=labels)"
   ]
  },
  {
   "cell_type": "code",
   "execution_count": null,
   "id": "68e0e84f-bb45-418b-9d7c-51b4b58f8bfe",
   "metadata": {},
   "outputs": [],
   "source": [
    "sns.countplot(data=data, \n",
    "              x='ageCat1', \n",
    "              hue='income_binary')"
   ]
  },
  {
   "cell_type": "markdown",
   "id": "b8cb0c52-3e89-4829-9336-b7b2c2e817d1",
   "metadata": {},
   "source": [
    "### Version 2: using pd.qcut with quartiles\n",
    "\n"
   ]
  },
  {
   "cell_type": "code",
   "execution_count": null,
   "id": "1e17a1ef",
   "metadata": {},
   "outputs": [],
   "source": [
    "labels = ['17-28', '28-37', '37-48', '48-90']\n",
    "\n",
    "data['ageCat2'] = pd.qcut(data['age'], q=4, labels=labels)"
   ]
  },
  {
   "cell_type": "code",
   "execution_count": null,
   "id": "482a8fa3-5e67-4071-ab9e-0d364669da4f",
   "metadata": {},
   "outputs": [],
   "source": [
    "sns.countplot(data=data, \n",
    "              x='ageCat2',\n",
    "              hue='income_binary')"
   ]
  },
  {
   "cell_type": "markdown",
   "id": "258aec92-6b36-4e58-b2b5-7894cf0d8a9d",
   "metadata": {},
   "source": [
    "Note that the describe() method gives accessible values too:\n",
    "\n",
    "### Version 3: using pd.cut and \"describe\" output"
   ]
  },
  {
   "cell_type": "code",
   "execution_count": null,
   "id": "d2d01002",
   "metadata": {},
   "outputs": [],
   "source": [
    "bins = data['age'].describe()[['min','25%','50%','75%','max']].values\n",
    "labels = ['17-28', '28-37', '37-48', '48-90']\n",
    "\n",
    "data['ageCat3'] = pd.cut(data['age'], bins=bins, labels=labels)"
   ]
  },
  {
   "cell_type": "code",
   "execution_count": null,
   "id": "244c85dd-becb-4d54-9698-68950d1b6fbb",
   "metadata": {},
   "outputs": [],
   "source": [
    "data[['age','ageCat1','ageCat2','ageCat3']]"
   ]
  },
  {
   "cell_type": "code",
   "execution_count": null,
   "id": "f5039338-1267-45f2-b194-06789d3de11e",
   "metadata": {},
   "outputs": [],
   "source": [
    "sns.countplot(data=data, x='ageCat3',hue='income_binary')"
   ]
  },
  {
   "cell_type": "code",
   "execution_count": null,
   "id": "e3a19197-3a10-472b-9d25-ce1f48ebac35",
   "metadata": {},
   "outputs": [],
   "source": [
    "from sklearn.preprocessing import KBinsDiscretizer"
   ]
  },
  {
   "cell_type": "code",
   "execution_count": null,
   "id": "faef1729-819d-4f88-86dc-2aa1423da86c",
   "metadata": {},
   "outputs": [],
   "source": [
    "data[['age']]"
   ]
  },
  {
   "cell_type": "code",
   "execution_count": null,
   "id": "957b621c-9493-4517-a2ff-d3e7e6c13dda",
   "metadata": {},
   "outputs": [],
   "source": [
    "binning_model = KBinsDiscretizer(n_bins=4, encode='ordinal')\n",
    "# binning_model = KBinsDiscretizer(n_bins=4, encode='ordinal', strategy='uniform')\n",
    "\n",
    "data['age_binned'] = binning_model.fit_transform(data[['age']])\n",
    "binning_model.bin_edges_"
   ]
  },
  {
   "cell_type": "code",
   "execution_count": null,
   "id": "96f07b94",
   "metadata": {},
   "outputs": [],
   "source": [
    "data[['age', 'age_binned']].sample(10)"
   ]
  },
  {
   "cell_type": "code",
   "execution_count": null,
   "id": "0abbd416",
   "metadata": {},
   "outputs": [],
   "source": [
    "data['age_binned'].hist()"
   ]
  },
  {
   "cell_type": "markdown",
   "id": "e40f630e-550f-4a51-bba3-14bc8fdb399b",
   "metadata": {},
   "source": [
    "## Looking for errors, junk, or simply discardees"
   ]
  },
  {
   "cell_type": "code",
   "execution_count": null,
   "id": "9967332f-3ad6-46a5-a48f-e798b6ebb7ed",
   "metadata": {},
   "outputs": [],
   "source": [
    "data['capital-gain'].value_counts()"
   ]
  },
  {
   "cell_type": "code",
   "execution_count": null,
   "id": "fa7ee0f8-e8bb-4b06-baa7-7915342551b4",
   "metadata": {},
   "outputs": [],
   "source": [
    "data['capital-loss'].value_counts()"
   ]
  },
  {
   "cell_type": "markdown",
   "id": "a37d273b-25b5-4bab-ab81-0d2ed5ba525b",
   "metadata": {},
   "source": [
    "Lots of zeros -> may decide to drop."
   ]
  },
  {
   "cell_type": "code",
   "execution_count": null,
   "id": "318f1f01-7f92-425e-b456-bc27b39a887e",
   "metadata": {},
   "outputs": [],
   "source": [
    "data.drop(['capital-gain','capital-loss'], axis=1, inplace=True)"
   ]
  },
  {
   "cell_type": "code",
   "execution_count": null,
   "id": "d6d26d85-09da-4230-9552-7674d5ebb17a",
   "metadata": {},
   "outputs": [],
   "source": [
    "data.info()"
   ]
  },
  {
   "cell_type": "markdown",
   "id": "7f8d2211",
   "metadata": {},
   "source": [
    "Most records are for the United States, so maybe you decide to only keep that value for native country\n",
    "* drop records that don't satisfy a condition"
   ]
  },
  {
   "cell_type": "code",
   "execution_count": null,
   "id": "bca7d09e-4018-48a8-8aa2-f64a46ea6360",
   "metadata": {},
   "outputs": [],
   "source": [
    "data = data.loc[data['native-country']=='United-States']"
   ]
  },
  {
   "cell_type": "code",
   "execution_count": null,
   "id": "115cc521-586b-4a15-8902-7c88d1d22845",
   "metadata": {},
   "outputs": [],
   "source": [
    "data = data.drop(['native-country'], axis=1)"
   ]
  },
  {
   "cell_type": "code",
   "execution_count": null,
   "id": "57163138-a8e1-4e2e-908f-675f089cc5f8",
   "metadata": {},
   "outputs": [],
   "source": [
    "data.info()"
   ]
  },
  {
   "cell_type": "markdown",
   "id": "284215cf",
   "metadata": {},
   "source": [
    "## Clean up a bit to collect your features and targets"
   ]
  },
  {
   "cell_type": "code",
   "execution_count": null,
   "id": "1831b484-0bcc-40f1-a440-3896bdb78b31",
   "metadata": {},
   "outputs": [],
   "source": [
    "x = data[['age','workclass','education',\n",
    "             'occupation','race','sex','hours-per-week']]\n",
    "y = data['income_binary']"
   ]
  },
  {
   "cell_type": "code",
   "execution_count": null,
   "id": "62f6d8d6-83cc-4e27-8469-70529df8170a",
   "metadata": {},
   "outputs": [],
   "source": [
    "x.tail()"
   ]
  },
  {
   "cell_type": "markdown",
   "id": "a8bb1afd",
   "metadata": {},
   "source": [
    "### be careful about index continuity"
   ]
  },
  {
   "cell_type": "code",
   "execution_count": null,
   "id": "aba417d4-d202-4477-b824-a152aac2bfa2",
   "metadata": {},
   "outputs": [],
   "source": [
    "x.reset_index(inplace=True, drop=True)"
   ]
  },
  {
   "cell_type": "code",
   "execution_count": null,
   "id": "2a78a9df-2462-48ea-b40f-a3f04fb63a5e",
   "metadata": {},
   "outputs": [],
   "source": [
    "x.tail()"
   ]
  },
  {
   "cell_type": "code",
   "execution_count": null,
   "id": "2a429ee9-8d78-4eaf-acb8-558a0d8ed12c",
   "metadata": {},
   "outputs": [],
   "source": [
    "y.tail()"
   ]
  },
  {
   "cell_type": "code",
   "execution_count": null,
   "id": "1d195eb4-271c-465e-856e-24500a2e5dae",
   "metadata": {},
   "outputs": [],
   "source": [
    "y.reset_index(inplace=True, drop=True)"
   ]
  },
  {
   "cell_type": "code",
   "execution_count": null,
   "id": "c7896f03-94df-4c03-8bdf-1a5159919a41",
   "metadata": {},
   "outputs": [],
   "source": [
    "y.tail()"
   ]
  },
  {
   "cell_type": "markdown",
   "id": "8f375cca",
   "metadata": {},
   "source": [
    "## Checking out illogical entries, duplicates, outliers"
   ]
  },
  {
   "cell_type": "code",
   "execution_count": null,
   "id": "10e334e4-e632-4ab2-b4b4-346c864f352d",
   "metadata": {},
   "outputs": [],
   "source": [
    "sns.countplot(data=data, x='relationship', hue='sex')"
   ]
  },
  {
   "cell_type": "code",
   "execution_count": null,
   "id": "4d66ba3c-df0c-4ca7-80c3-d0875daaf464",
   "metadata": {},
   "outputs": [],
   "source": [
    "data.loc[((data['relationship'] == 'Husband') & (data['sex'] == 'Female')) | \n",
    "           ((data['relationship'] == 'Wife') & (data['sex'] == 'Male'))]"
   ]
  },
  {
   "cell_type": "code",
   "execution_count": null,
   "id": "43bb58b4-5300-4e12-b50d-853f5a61bf9e",
   "metadata": {},
   "outputs": [],
   "source": [
    "data.shape"
   ]
  },
  {
   "cell_type": "code",
   "execution_count": null,
   "id": "d6f4427d-30c8-4323-a550-96494f09258a",
   "metadata": {},
   "outputs": [],
   "source": [
    "data = data.loc[~(((data['relationship'] == 'Husband') & (data['sex'] == 'Female')) |\n",
    "                  ((data['relationship'] == 'Wife') & (data['sex'] == 'Male')))]"
   ]
  },
  {
   "cell_type": "code",
   "execution_count": null,
   "id": "b76030cc-f75d-4b3c-ba71-5bdaee90da74",
   "metadata": {},
   "outputs": [],
   "source": [
    "data.shape"
   ]
  },
  {
   "cell_type": "markdown",
   "id": "53d288f9-2f21-4813-9d3b-80dc51e1f68e",
   "metadata": {},
   "source": [
    "# Outliers\n",
    "Any values need to be clipped?\n",
    "* this version is pretty sanitary, but we can impose limits for example's sake"
   ]
  },
  {
   "cell_type": "code",
   "execution_count": null,
   "id": "7a47a6be-6596-4e0c-a798-87a15abbcf64",
   "metadata": {},
   "outputs": [],
   "source": [
    "data.describe(include='all')"
   ]
  },
  {
   "cell_type": "code",
   "execution_count": null,
   "id": "f36a0c77-27a2-4a23-a438-f90e6cb333df",
   "metadata": {},
   "outputs": [],
   "source": [
    "data['hours-per-week'].hist(bins=50)"
   ]
  },
  {
   "cell_type": "code",
   "execution_count": null,
   "id": "20c54562-228e-424d-98fe-62a660ee7abd",
   "metadata": {},
   "outputs": [],
   "source": [
    "data[['hours-per-week']].boxplot()"
   ]
  },
  {
   "cell_type": "code",
   "execution_count": null,
   "id": "58857eac-2bc2-431d-ab3d-d752bde951f6",
   "metadata": {},
   "outputs": [],
   "source": [
    "# total number of hours worked for 7 days a week at 12 hrs/day\n",
    "12*7"
   ]
  },
  {
   "cell_type": "code",
   "execution_count": null,
   "id": "4740d0e7-c030-4bea-beb9-f5d5d0d0e52f",
   "metadata": {},
   "outputs": [],
   "source": [
    "data['hours-per-week'] = data['hours-per-week'].clip(lower=20, \n",
    "                                                     upper=84)"
   ]
  },
  {
   "cell_type": "code",
   "execution_count": null,
   "id": "772a2384-9b83-4b01-bc15-83843d6a59b3",
   "metadata": {},
   "outputs": [],
   "source": [
    "data[['hours-per-week']].boxplot()"
   ]
  },
  {
   "cell_type": "code",
   "execution_count": null,
   "id": "f259cf4f-51c7-448a-afae-5eaffcb2c55e",
   "metadata": {},
   "outputs": [],
   "source": [
    "data['hours-per-week'].hist(bins=50)"
   ]
  },
  {
   "cell_type": "markdown",
   "id": "79666990-85b1-471f-9a9b-1818f93da0ab",
   "metadata": {},
   "source": [
    "### Duplicate checking!"
   ]
  },
  {
   "cell_type": "code",
   "execution_count": null,
   "id": "1aa5abf1-ab9a-4b1d-b98c-b3d256de4c61",
   "metadata": {
    "scrolled": true
   },
   "outputs": [],
   "source": [
    "data[data.duplicated(keep=False)].head()"
   ]
  },
  {
   "cell_type": "code",
   "execution_count": null,
   "id": "611dc550-680d-4ff0-91ac-e0f49d08a657",
   "metadata": {},
   "outputs": [],
   "source": [
    "data[data.duplicated(keep=False)].sort_values(by='fnlwgt').head(6)"
   ]
  },
  {
   "cell_type": "code",
   "execution_count": null,
   "id": "5d518092-4460-462e-9292-af7cb6d70015",
   "metadata": {},
   "outputs": [],
   "source": [
    "data.shape"
   ]
  },
  {
   "cell_type": "code",
   "execution_count": null,
   "id": "ebe897d0-8a71-4e3b-adfa-e1d4cdeaa849",
   "metadata": {},
   "outputs": [],
   "source": [
    "data.drop_duplicates(inplace=True)"
   ]
  },
  {
   "cell_type": "code",
   "execution_count": null,
   "id": "a806436e-2d31-48df-9640-da85951463c1",
   "metadata": {},
   "outputs": [],
   "source": [
    "data.shape"
   ]
  },
  {
   "cell_type": "markdown",
   "id": "ab878856-1d20-4d50-a8a5-206c2d1726ab",
   "metadata": {},
   "source": [
    "# Normalization"
   ]
  },
  {
   "cell_type": "markdown",
   "id": "0b15d2dd-be4a-405e-942a-f7ed3ddfd551",
   "metadata": {},
   "source": [
    "Scaling can be very important for algorithms that are sensitive to distance-based metrics\n",
    "* MinMax\n",
    "  * new scale: [0,1]\n",
    "* Standard Scaling\n",
    "  * new scale: mean 0, standard deviation 1\n",
    "  * $z = (x - \\mu)/\\sigma$"
   ]
  },
  {
   "cell_type": "code",
   "execution_count": null,
   "id": "f904a90c-c304-4375-864a-6b3e05e203ff",
   "metadata": {},
   "outputs": [],
   "source": [
    "data[['hours-per-week']].boxplot()"
   ]
  },
  {
   "cell_type": "code",
   "execution_count": null,
   "id": "5db50657-b61b-4b2a-ba89-2d9257428901",
   "metadata": {},
   "outputs": [],
   "source": [
    "from sklearn.preprocessing import MinMaxScaler, StandardScaler"
   ]
  },
  {
   "cell_type": "code",
   "execution_count": null,
   "id": "4dcdc1b1-1038-4488-b553-8ce81bfd8a9f",
   "metadata": {},
   "outputs": [],
   "source": [
    "# scaler = MinMaxScaler()\n",
    "scaler = StandardScaler()"
   ]
  },
  {
   "cell_type": "code",
   "execution_count": null,
   "id": "85ad28e6-df1f-475e-b5cd-e5341c62eb64",
   "metadata": {},
   "outputs": [],
   "source": [
    "scaler.fit(data[['hours-per-week']])\n",
    "tmphrs = scaler.transform(data[['hours-per-week']])\n",
    "plt.boxplot(tmphrs)"
   ]
  },
  {
   "cell_type": "code",
   "execution_count": null,
   "id": "fddca60f-9057-4551-bf68-564fadc6dbfe",
   "metadata": {},
   "outputs": [],
   "source": [
    "data[['hours-per-week']].boxplot()"
   ]
  },
  {
   "cell_type": "markdown",
   "id": "8e8d923a-9e51-4ae1-9813-a4e3e32b3115",
   "metadata": {},
   "source": [
    "## Missing data"
   ]
  },
  {
   "cell_type": "code",
   "execution_count": null,
   "id": "e6744c6c-c37e-4df4-8b48-4431e3969a95",
   "metadata": {},
   "outputs": [],
   "source": [
    "data.columns"
   ]
  },
  {
   "cell_type": "code",
   "execution_count": null,
   "id": "a323afd3-9ef7-46cd-9705-32596344515d",
   "metadata": {},
   "outputs": [],
   "source": [
    "data['workclass'].unique()"
   ]
  },
  {
   "cell_type": "code",
   "execution_count": null,
   "id": "51efe3ec-fc6d-470a-a253-77a14ca35817",
   "metadata": {},
   "outputs": [],
   "source": [
    "data.loc[data['workclass']=='?', ['occupation']].value_counts()"
   ]
  },
  {
   "cell_type": "code",
   "execution_count": null,
   "id": "6262fbda-ec02-4345-a204-c2b9f2a36de3",
   "metadata": {},
   "outputs": [],
   "source": [
    "data.loc[data['occupation']=='?', ['workclass']].value_counts()"
   ]
  },
  {
   "cell_type": "code",
   "execution_count": null,
   "id": "6dcc2137-d7f3-4f2c-b52c-7ede6de51762",
   "metadata": {},
   "outputs": [],
   "source": [
    "data.loc[(data['occupation']=='?') |\n",
    "    (data['workclass']=='?'), 'workclass'].value_counts()"
   ]
  },
  {
   "cell_type": "code",
   "execution_count": null,
   "id": "7d88a995-f3d4-4b9a-adbb-00fedc365243",
   "metadata": {},
   "outputs": [],
   "source": [
    "data.groupby(['workclass'])['income_binary'].value_counts()"
   ]
  },
  {
   "cell_type": "code",
   "execution_count": null,
   "id": "9fa2e2c2-a24c-44b6-a874-fa65227fcbfe",
   "metadata": {},
   "outputs": [],
   "source": [
    "data['workclass'].value_counts()"
   ]
  },
  {
   "cell_type": "code",
   "execution_count": null,
   "id": "e1e49e32-2ed6-4c4a-9801-4e7cd5013479",
   "metadata": {},
   "outputs": [],
   "source": [
    "data['workclass'].isna().sum()"
   ]
  },
  {
   "cell_type": "code",
   "execution_count": null,
   "id": "b9131fd8-b7e9-4868-ace2-415b0c91aa7a",
   "metadata": {},
   "outputs": [],
   "source": [
    "data['occupation'].isna().sum()"
   ]
  },
  {
   "cell_type": "code",
   "execution_count": null,
   "id": "24e25219-0e7a-4344-ad5b-bca447050f1a",
   "metadata": {},
   "outputs": [],
   "source": [
    "data['occupation'].unique()"
   ]
  },
  {
   "cell_type": "code",
   "execution_count": null,
   "id": "72173754-8e62-48e6-a977-65ff861fb0d0",
   "metadata": {},
   "outputs": [],
   "source": [
    "data['sex'].isna().sum()"
   ]
  },
  {
   "cell_type": "markdown",
   "id": "7427864a-b290-4e1e-a10a-5c3e510cd735",
   "metadata": {},
   "source": [
    "# ... and so on.  One must be thorough before the fun ML comes."
   ]
  }
 ],
 "metadata": {
  "kernelspec": {
   "display_name": "Python 3 (ipykernel)",
   "language": "python",
   "name": "python3"
  },
  "language_info": {
   "codemirror_mode": {
    "name": "ipython",
    "version": 3
   },
   "file_extension": ".py",
   "mimetype": "text/x-python",
   "name": "python",
   "nbconvert_exporter": "python",
   "pygments_lexer": "ipython3",
   "version": "3.10.18"
  }
 },
 "nbformat": 4,
 "nbformat_minor": 5
}
