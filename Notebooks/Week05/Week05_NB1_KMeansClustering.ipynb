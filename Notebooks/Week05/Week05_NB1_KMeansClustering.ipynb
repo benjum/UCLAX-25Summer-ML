{
 "cells": [
  {
   "cell_type": "markdown",
   "id": "b7f10d3d-4ed4-490e-8e1d-cababfe91a71",
   "metadata": {},
   "source": [
    "# Clustering with K-Means"
   ]
  },
  {
   "cell_type": "code",
   "execution_count": null,
   "id": "f0f9493b-7120-4789-b1c7-03a28083c9c0",
   "metadata": {},
   "outputs": [],
   "source": [
    "import pandas as pd"
   ]
  },
  {
   "cell_type": "markdown",
   "id": "2d95e272-9213-48b2-985b-9633d6526624",
   "metadata": {},
   "source": [
    "First we make our fictional dataset."
   ]
  },
  {
   "cell_type": "code",
   "execution_count": null,
   "id": "b59d530b-3331-4d21-a34f-4075b1fbe64b",
   "metadata": {},
   "outputs": [],
   "source": [
    "from sklearn.datasets import make_blobs"
   ]
  },
  {
   "cell_type": "code",
   "execution_count": null,
   "id": "af6ba11c-d3d0-4ccd-8e65-5da2f65d72b9",
   "metadata": {},
   "outputs": [],
   "source": [
    "x, y = make_blobs(n_samples=300, centers=4, cluster_std=0.60, random_state=0)"
   ]
  },
  {
   "cell_type": "code",
   "execution_count": null,
   "id": "d6820fd5-67eb-4a75-af46-01a082b6ffa0",
   "metadata": {},
   "outputs": [],
   "source": [
    "x[:10]"
   ]
  },
  {
   "cell_type": "code",
   "execution_count": null,
   "id": "d5e6fffe-eec1-40d7-91a4-6e9248c8c4fc",
   "metadata": {},
   "outputs": [],
   "source": [
    "y"
   ]
  },
  {
   "cell_type": "code",
   "execution_count": null,
   "id": "94a301b9-872c-4d0b-9a20-5e44627abe01",
   "metadata": {},
   "outputs": [],
   "source": [
    "import matplotlib.pyplot as plt"
   ]
  },
  {
   "cell_type": "code",
   "execution_count": null,
   "id": "78403b3b-8009-43b6-8507-0be371e1e642",
   "metadata": {},
   "outputs": [],
   "source": [
    "ourcolors = ['red','blue','black','green','yellow','magenta','orange','brown','grey','aqua']"
   ]
  },
  {
   "cell_type": "code",
   "execution_count": null,
   "id": "113e26f7-0257-42fa-8c70-99f90a3573f3",
   "metadata": {},
   "outputs": [],
   "source": [
    "plt.scatter(x[:,0],\n",
    "            x[:,1],\n",
    "            color=[ourcolors[i] for i in y])\n",
    "plt.xlabel('x0')\n",
    "plt.ylabel('x1')"
   ]
  },
  {
   "cell_type": "code",
   "execution_count": null,
   "id": "cbb1ee34-87bd-48a5-87f2-bf17476c177c",
   "metadata": {},
   "outputs": [],
   "source": [
    "plt.scatter(x[:,0],\n",
    "            x[:,1])\n",
    "plt.xlabel('x0')\n",
    "plt.ylabel('x1')"
   ]
  },
  {
   "cell_type": "code",
   "execution_count": null,
   "id": "5ab2735e-e8ed-4b61-996b-03f1ea957161",
   "metadata": {},
   "outputs": [],
   "source": [
    "from sklearn.cluster import KMeans"
   ]
  },
  {
   "cell_type": "markdown",
   "id": "bcf0f7ae-eefe-472d-b2af-437c2ef35322",
   "metadata": {},
   "source": [
    "We create an object for our model by calling \"KMeans\" with the number of clusters we want to look for"
   ]
  },
  {
   "cell_type": "code",
   "execution_count": null,
   "id": "9dd8bfb8-315c-4886-8c1e-347aaa75a152",
   "metadata": {},
   "outputs": [],
   "source": [
    "kmeans = KMeans(n_clusters=4, n_init=10)"
   ]
  },
  {
   "cell_type": "markdown",
   "id": "e7eb5008-8353-4f3c-989d-4e849099c9fb",
   "metadata": {},
   "source": [
    "We then call the fit method, and pass in the data in which we want to search for clusters"
   ]
  },
  {
   "cell_type": "code",
   "execution_count": null,
   "id": "5e0530bf-9286-4cfa-b2a8-bd87b01557f2",
   "metadata": {},
   "outputs": [],
   "source": [
    "kmeans.fit(x)"
   ]
  },
  {
   "cell_type": "code",
   "execution_count": null,
   "id": "a1c702a0-a6ae-4af1-9418-17917db91766",
   "metadata": {},
   "outputs": [],
   "source": [
    "x[[0]]"
   ]
  },
  {
   "cell_type": "code",
   "execution_count": null,
   "id": "731d5517-a3f1-4597-b3c7-6d9dde86593d",
   "metadata": {},
   "outputs": [],
   "source": [
    "kmeans.predict(x[[0]])"
   ]
  },
  {
   "cell_type": "code",
   "execution_count": null,
   "id": "947c7c6b-73d8-4f53-8271-8c6bf374f153",
   "metadata": {},
   "outputs": [],
   "source": [
    "plt.scatter(x[:,0],\n",
    "            x[:,1],\n",
    "            color=[ourcolors[i] for i in kmeans.labels_])"
   ]
  },
  {
   "cell_type": "code",
   "execution_count": null,
   "id": "0faaaf10-a84c-488a-a3b3-f249fd042eb9",
   "metadata": {},
   "outputs": [],
   "source": [
    "kmeans.labels_"
   ]
  },
  {
   "cell_type": "code",
   "execution_count": null,
   "id": "a10551d7-f0d5-4d91-b963-08c94cbcd03b",
   "metadata": {},
   "outputs": [],
   "source": [
    "kmeans.cluster_centers_"
   ]
  },
  {
   "cell_type": "code",
   "execution_count": null,
   "id": "6043da35-4de2-4349-a9f9-878a49719b59",
   "metadata": {},
   "outputs": [],
   "source": [
    "import ipywidgets"
   ]
  },
  {
   "cell_type": "code",
   "execution_count": null,
   "id": "e89f7cf5-86c5-4aad-b77c-d396e8e856ce",
   "metadata": {},
   "outputs": [],
   "source": [
    "def plotblobs(n):\n",
    "    kmeans = KMeans(n_clusters=n, n_init=10)\n",
    "    kmeans.fit(x)\n",
    "    plt.scatter(x[:,0], x[:,1], color=[ourcolors[i] for i in kmeans.labels_])\n",
    "    \n",
    "ipywidgets.interact(plotblobs,n=(1,10));"
   ]
  },
  {
   "cell_type": "markdown",
   "id": "b39ffe78-cda4-4974-9c14-a2dd4b9452d6",
   "metadata": {},
   "source": [
    "# Basic approach"
   ]
  },
  {
   "cell_type": "code",
   "execution_count": null,
   "id": "1bdf024e-37c1-4910-8fb9-7ab1d97efd6a",
   "metadata": {},
   "outputs": [],
   "source": [
    "import numpy as np"
   ]
  },
  {
   "cell_type": "code",
   "execution_count": null,
   "id": "d8c19886-1b20-4b1c-8100-7cd5811188a2",
   "metadata": {},
   "outputs": [],
   "source": [
    "np.random.seed(0)\n",
    "nclusters = 4"
   ]
  },
  {
   "cell_type": "code",
   "execution_count": null,
   "id": "e4c91aa5-6eab-4e19-a5a1-5ca5e7a2feab",
   "metadata": {},
   "outputs": [],
   "source": [
    "centers_x0 = []\n",
    "centers_x1 = []\n",
    "for i in range(nclusters):\n",
    "    centers_x0.append(np.random.randint(-3,4))\n",
    "    centers_x1.append(np.random.randint(-1,10))"
   ]
  },
  {
   "cell_type": "code",
   "execution_count": null,
   "id": "f7c091a7-8217-4c1b-ad39-063a109908e5",
   "metadata": {},
   "outputs": [],
   "source": [
    "centers_x0"
   ]
  },
  {
   "cell_type": "code",
   "execution_count": null,
   "id": "d390e6b4-8bed-4f7d-ae60-c2066b6f4dd8",
   "metadata": {},
   "outputs": [],
   "source": [
    "plt.scatter(x[:,0],\n",
    "            x[:,1])\n",
    "plt.plot(centers_x0, centers_x1, 'yo', markersize=10)\n",
    "plt.xlabel('x0')\n",
    "plt.ylabel('x1')"
   ]
  },
  {
   "cell_type": "code",
   "execution_count": null,
   "id": "e2cbff07-da01-4738-a8ca-8cd8a39bc3f8",
   "metadata": {},
   "outputs": [],
   "source": [
    "def d(a,b):\n",
    "    return np.sqrt(a**2 + b**2)"
   ]
  },
  {
   "cell_type": "code",
   "execution_count": null,
   "id": "800272c4-5569-4629-998a-f41a8431202c",
   "metadata": {},
   "outputs": [],
   "source": [
    "np.argmin([d(x[0,0] - centers_x0[i], x[0,1] - centers_x1[i]) for i in range(nclusters)])"
   ]
  },
  {
   "cell_type": "code",
   "execution_count": null,
   "id": "91c37008-7e13-458a-a03d-650d38655f33",
   "metadata": {},
   "outputs": [],
   "source": [
    "x.shape"
   ]
  },
  {
   "cell_type": "code",
   "execution_count": null,
   "id": "311e5b1c-2213-497e-a219-d3a8da0970b6",
   "metadata": {},
   "outputs": [],
   "source": [
    "cluster = []\n",
    "for point in range(x.shape[0]):\n",
    "    cluster.append(np.argmin([d(x[point,0] - centers_x0[i], x[point,1] - centers_x1[i]) for i in range(nclusters)]))"
   ]
  },
  {
   "cell_type": "code",
   "execution_count": null,
   "id": "575f97fe-2455-47ec-8fac-dfd0babfdd2a",
   "metadata": {},
   "outputs": [],
   "source": [
    "plt.scatter(x[:,0],\n",
    "            x[:,1],\n",
    "            color=[ourcolors[i] for i in cluster])\n",
    "plt.plot(centers_x0, centers_x1, 'yo', markersize=10)\n",
    "plt.xlabel('x0')\n",
    "plt.ylabel('x1')"
   ]
  },
  {
   "cell_type": "code",
   "execution_count": null,
   "id": "ff2cd687-9d57-4c62-8f0e-881a60a41067",
   "metadata": {},
   "outputs": [],
   "source": [
    "df = pd.DataFrame({'x0':x[:,0],'x1':x[:,1],'cluster':cluster})"
   ]
  },
  {
   "cell_type": "code",
   "execution_count": null,
   "id": "0b69a10f-998e-4b35-8b57-138ed9d8f8c4",
   "metadata": {},
   "outputs": [],
   "source": [
    "df"
   ]
  },
  {
   "cell_type": "code",
   "execution_count": null,
   "id": "a213e8e7-8864-4351-b394-11d4a690860f",
   "metadata": {},
   "outputs": [],
   "source": [
    "def kmeans_iter(counter=0,seed=0):\n",
    "\n",
    "    np.random.seed(seed)\n",
    "    nclusters = 4\n",
    "\n",
    "    centers_x0 = []\n",
    "    centers_x1 = []\n",
    "    for i in range(nclusters):\n",
    "        centers_x0.append(np.random.randint(-3,4))\n",
    "        centers_x1.append(np.random.randint(-1,10))\n",
    "    \n",
    "    cluster = []\n",
    "    for point in range(x.shape[0]):\n",
    "        cluster.append(np.argmin([d(x[point,0] - centers_x0[i], x[point,1] - centers_x1[i]) for i in range(nclusters)]))\n",
    "        \n",
    "    df = pd.DataFrame({'x0':x[:,0],'x1':x[:,1],'cluster':cluster})\n",
    "    \n",
    "    for c in range(counter):\n",
    "\n",
    "        if c % 2 == 0:\n",
    "            # update cluster identifications\n",
    "            for i,row in df.iterrows():\n",
    "                df.loc[i,'cluster'] = np.argmin([d(row['x0'] - centers_x0[i], row['x1'] - centers_x1[i]) for i in range(nclusters)])\n",
    "        else:\n",
    "            # update centroid centers\n",
    "            for i in range(nclusters):\n",
    "                centers_x0[i] = df.loc[df['cluster']==i, 'x0'].mean()\n",
    "                centers_x1[i] = df.loc[df['cluster']==i, 'x1'].mean()\n",
    "                # if np.isnan(centers_x0[i]): centers_x0[i] = 0\n",
    "                # if np.isnan(centers_x1[i]): centers_x1[i] = 0\n",
    "            # print(centers_x0,centers_x1)\n",
    "\n",
    "    # plot points and centroids \n",
    "    plt.scatter(df['x0'],\n",
    "        df['x1'],\n",
    "        color=[ourcolors[i] for i in df['cluster']])\n",
    "    plt.plot(centers_x0, centers_x1, 'yo', markersize=10)\n",
    "    plt.xlabel('x0')\n",
    "    plt.ylabel('x1')\n",
    "\n",
    "ipywidgets.interact(kmeans_iter, counter=(0,100),seed=(0,10));"
   ]
  },
  {
   "cell_type": "markdown",
   "id": "482b7e80-8414-431b-8f72-04b1c537586a",
   "metadata": {},
   "source": [
    "# Ascertaining clusters"
   ]
  },
  {
   "cell_type": "code",
   "execution_count": null,
   "id": "9f7c4417-84e0-4c5c-9835-c9aa41a4ad15",
   "metadata": {},
   "outputs": [],
   "source": [
    "x, y = make_blobs(n_samples=300, centers=4, cluster_std=0.60, random_state=0)"
   ]
  },
  {
   "cell_type": "code",
   "execution_count": null,
   "id": "52d70f86-67a0-4159-b1b8-a37a074aa93e",
   "metadata": {},
   "outputs": [],
   "source": [
    "plt.scatter(x[:,0],\n",
    "            x[:,1])\n",
    "plt.xlabel('x0')\n",
    "plt.ylabel('x1')"
   ]
  },
  {
   "cell_type": "code",
   "execution_count": null,
   "id": "cce4ac8c-ff4e-41f0-924a-683d1dae086f",
   "metadata": {},
   "outputs": [],
   "source": [
    "kmeans = KMeans(n_clusters=4, n_init=10)"
   ]
  },
  {
   "cell_type": "code",
   "execution_count": null,
   "id": "231970ce-8fe2-41bf-9a2f-7fb456e5f7e6",
   "metadata": {},
   "outputs": [],
   "source": [
    "kmeans.fit(x)"
   ]
  },
  {
   "cell_type": "code",
   "execution_count": null,
   "id": "eaad71ae-d946-400c-90db-e75efe4b727a",
   "metadata": {},
   "outputs": [],
   "source": [
    "plt.scatter(x[:,0],\n",
    "            x[:,1],\n",
    "            color=[ourcolors[i] for i in kmeans.labels_])"
   ]
  },
  {
   "cell_type": "code",
   "execution_count": null,
   "id": "b2a40985-70d3-401a-b9e7-b032dc6a636d",
   "metadata": {},
   "outputs": [],
   "source": [
    "kmeans.labels_"
   ]
  },
  {
   "cell_type": "code",
   "execution_count": null,
   "id": "96920646-3265-44f0-b225-30341ef5b057",
   "metadata": {},
   "outputs": [],
   "source": [
    "kmeans.cluster_centers_"
   ]
  },
  {
   "cell_type": "code",
   "execution_count": null,
   "id": "86fdf6d4-3aa2-449b-bb14-89f23774d38c",
   "metadata": {},
   "outputs": [],
   "source": [
    "def plotblobs(n):\n",
    "    kmeans = KMeans(n_clusters=n, n_init=10)\n",
    "    kmeans.fit(x)\n",
    "    plt.scatter(x[:,0], x[:,1], color=[ourcolors[i] for i in kmeans.labels_])\n",
    "    \n",
    "ipywidgets.interact(plotblobs,n=(1,10));"
   ]
  },
  {
   "cell_type": "markdown",
   "id": "2cad8cf8-4c14-44e4-b811-e1c5229899fb",
   "metadata": {},
   "source": [
    "There is no means by which to evaluate the performance of clustering.  This is unsupervised learning, so there are no test values against which we can measure metrics.\n",
    "\n",
    "Inertia is one metric that is used to evaluate clustering.  Inertia measures the sum of the distances between each training instance and the cluster centroid with which it is identified."
   ]
  },
  {
   "cell_type": "code",
   "execution_count": null,
   "id": "17291fa7-2cf2-44af-adc9-3bd27c7eff8c",
   "metadata": {},
   "outputs": [],
   "source": [
    "kmeans.inertia_"
   ]
  },
  {
   "cell_type": "markdown",
   "id": "5ffd9b19-88c4-415d-8395-7f1bcc4b761a",
   "metadata": {},
   "source": [
    "For k-means clustering, the `score` method returns this inertia score (or rather the negative of the inertia, since score is meant to be optimized and higher values, rather than lower values, are meant for such optimization)."
   ]
  },
  {
   "cell_type": "code",
   "execution_count": null,
   "id": "eda9f193-bb3c-42a9-a82e-6b6cbaf4fced",
   "metadata": {},
   "outputs": [],
   "source": [
    "kmeans.score(x)"
   ]
  },
  {
   "cell_type": "code",
   "execution_count": null,
   "id": "2f1bb09a-c0a6-4ef1-8e2c-fe6b608a9fcb",
   "metadata": {},
   "outputs": [],
   "source": [
    "nclusters = []\n",
    "inertia_scores = []\n",
    "for i in range(1,15):\n",
    "    nclusters.append(i)\n",
    "    inertia_scores.append(KMeans(n_clusters=i, n_init=10).fit(x).inertia_)"
   ]
  },
  {
   "cell_type": "code",
   "execution_count": null,
   "id": "df7cf2a3-ba76-4b95-a18a-9f0843f96981",
   "metadata": {},
   "outputs": [],
   "source": [
    "plt.plot(nclusters, inertia_scores, 'ko')"
   ]
  },
  {
   "cell_type": "markdown",
   "id": "798ed888-ebfc-4d8a-b130-49d3af320bea",
   "metadata": {},
   "source": [
    "Another approach is to look at the silhouette score.  For any given point, the silhouette coefficient equals $(b-a)/\\text{max}(a,b)$, where a is the average distance to other points in the same cluster and b is the average distance to points in the next closest cluster.  +1 means the point is well within its own cluster, and -1 means the point is likely in the next closest cluster.\n",
    "\n",
    "The silhouette score is the average silhouette coefficient over all points."
   ]
  },
  {
   "cell_type": "code",
   "execution_count": null,
   "id": "3cd43ddf-d846-40cf-a2c9-e96748b70c87",
   "metadata": {},
   "outputs": [],
   "source": [
    "from sklearn.metrics import silhouette_score"
   ]
  },
  {
   "cell_type": "markdown",
   "id": "b8a6a779-9dc5-4a28-81bb-c6f0c953adf2",
   "metadata": {},
   "source": [
    "For just one training, we pass in the points and labels."
   ]
  },
  {
   "cell_type": "code",
   "execution_count": null,
   "id": "f9d054b1-9577-4131-8c86-14e3f1e517ad",
   "metadata": {},
   "outputs": [],
   "source": [
    "kmeans = KMeans(n_clusters=4, n_init=10)\n",
    "kmeans.fit(x)\n",
    "silhouette_score(x, kmeans.labels_)"
   ]
  },
  {
   "cell_type": "markdown",
   "id": "b32b338d-997b-49e2-86b8-66860be1bb5b",
   "metadata": {},
   "source": [
    "We can again look at how this varies when identifying different numbers of clusters."
   ]
  },
  {
   "cell_type": "code",
   "execution_count": null,
   "id": "1a2fa7df-22a5-4ba6-ab10-dc31f9eeee46",
   "metadata": {},
   "outputs": [],
   "source": [
    "nclusters = []\n",
    "silhouette_scores = []\n",
    "# Note: doesn't work for just 1 cluster because then there isn't a next-closest cluster\n",
    "for i in range(2,15):\n",
    "    nclusters.append(i)\n",
    "    silhouette_scores.append(silhouette_score(x, KMeans(n_clusters=i, n_init=10).fit(x).labels_))"
   ]
  },
  {
   "cell_type": "code",
   "execution_count": null,
   "id": "b93c7c0d-cd85-4da2-9ad8-8f717cb064e8",
   "metadata": {},
   "outputs": [],
   "source": [
    "plt.plot(nclusters, silhouette_scores, 'ko')"
   ]
  },
  {
   "cell_type": "markdown",
   "id": "6c9b24ba-963b-4a31-acfb-97ef33a22b22",
   "metadata": {},
   "source": [
    "# Using KMeans Clustering for Semi-Supervised Learning"
   ]
  },
  {
   "cell_type": "markdown",
   "id": "9030ef12-9bae-44df-bc66-c7f6e8372437",
   "metadata": {},
   "source": [
    "Acknowledgements to our course text by A. Geron."
   ]
  },
  {
   "cell_type": "code",
   "execution_count": null,
   "id": "f33fb784-2259-44a7-872c-297c1b63960f",
   "metadata": {},
   "outputs": [],
   "source": [
    "from sklearn.datasets import load_digits\n",
    "from sklearn.model_selection import train_test_split\n",
    "from sklearn.linear_model import LogisticRegression"
   ]
  },
  {
   "cell_type": "code",
   "execution_count": null,
   "id": "ed2233af-c9e5-413a-94f3-fa04b433b9cd",
   "metadata": {},
   "outputs": [],
   "source": [
    "X_digits, y_digits = load_digits(return_X_y=True)"
   ]
  },
  {
   "cell_type": "code",
   "execution_count": null,
   "id": "5de63204-0129-4854-abcb-1714aa56a046",
   "metadata": {},
   "outputs": [],
   "source": [
    "X_digits.shape"
   ]
  },
  {
   "cell_type": "code",
   "execution_count": null,
   "id": "4cf9fa7b-b32f-4f2e-8c6b-468330046d19",
   "metadata": {},
   "outputs": [],
   "source": [
    "X_train, X_test, y_train, y_test = train_test_split(X_digits, \n",
    "                                                    y_digits, \n",
    "                                                    random_state=42,\n",
    "                                                   stratify=y_digits)"
   ]
  },
  {
   "cell_type": "markdown",
   "id": "b7952e3b-68bf-4b41-98cd-56ba44b2e2bf",
   "metadata": {},
   "source": [
    "We'll use Logistic Regression to do multi-class classification:\n",
    "* https://scikit-learn.org/stable/modules/generated/sklearn.linear_model.LogisticRegression.html"
   ]
  },
  {
   "cell_type": "code",
   "execution_count": null,
   "id": "9911bfca-e99c-474a-b8ae-9350e103f99d",
   "metadata": {},
   "outputs": [],
   "source": [
    "log_reg = LogisticRegression(max_iter=5000)\n",
    "log_reg.fit(X_train, y_train)"
   ]
  },
  {
   "cell_type": "code",
   "execution_count": null,
   "id": "92996952-ce76-4181-8e3a-2652644fda01",
   "metadata": {},
   "outputs": [],
   "source": [
    "log_reg_score = log_reg.score(X_test, y_test)\n",
    "log_reg_score"
   ]
  },
  {
   "cell_type": "code",
   "execution_count": null,
   "id": "9d859b20-289b-49b0-91f0-456135336acc",
   "metadata": {},
   "outputs": [],
   "source": [
    "X_digits[1]"
   ]
  },
  {
   "cell_type": "markdown",
   "id": "577d620f-5062-468e-98ad-36769a6a1a25",
   "metadata": {},
   "source": [
    "What if we only had the time to label 50?"
   ]
  },
  {
   "cell_type": "code",
   "execution_count": null,
   "id": "acc6e891-2d3f-4b95-b018-9223ac43c4ac",
   "metadata": {},
   "outputs": [],
   "source": [
    "n_labeled = 50\n",
    "log_reg = LogisticRegression()#max_iter=5000)\n",
    "log_reg.fit(X_train[:n_labeled], y_train[:n_labeled])"
   ]
  },
  {
   "cell_type": "code",
   "execution_count": null,
   "id": "dc6c541f-1776-4a81-81c4-f7adef1bcae8",
   "metadata": {},
   "outputs": [],
   "source": [
    "log_reg_score = log_reg.score(X_test, y_test)\n",
    "log_reg_score"
   ]
  },
  {
   "cell_type": "markdown",
   "id": "61e95925-f518-462b-b00d-d003460d49f4",
   "metadata": {},
   "source": [
    "We can do a better job with our labeling-50 work:\n",
    "* cluster first\n",
    "* then label an instance from each of the 50 clusters"
   ]
  },
  {
   "cell_type": "code",
   "execution_count": null,
   "id": "cdb8af62-0c64-4462-a3bc-1dff6d1caff6",
   "metadata": {},
   "outputs": [],
   "source": [
    "k = 50\n",
    "kmeans = KMeans(n_clusters=k, n_init=10, random_state=0)\n",
    "X_digits_dist = kmeans.fit_transform(X_train)"
   ]
  },
  {
   "cell_type": "code",
   "execution_count": null,
   "id": "ada178a7-f48f-475e-bd4b-6a7e83b0ae1d",
   "metadata": {},
   "outputs": [],
   "source": [
    "X_digits[[0]]"
   ]
  },
  {
   "cell_type": "code",
   "execution_count": null,
   "id": "02ebd85e-90b2-4bd8-ba91-9fd701f9d4f8",
   "metadata": {},
   "outputs": [],
   "source": [
    "X_digits_dist[[0]]"
   ]
  },
  {
   "cell_type": "code",
   "execution_count": null,
   "id": "ba34e039-b1e3-4c30-8b94-66ed292100e9",
   "metadata": {},
   "outputs": [],
   "source": [
    "kmeans.predict(X_digits[[0]])"
   ]
  },
  {
   "cell_type": "code",
   "execution_count": null,
   "id": "9ec075cf-9c2e-4028-b221-b5cc0ea40511",
   "metadata": {},
   "outputs": [],
   "source": [
    "representative_digit_idx = X_digits_dist.argmin(axis=0)"
   ]
  },
  {
   "cell_type": "code",
   "execution_count": null,
   "id": "e434f920-adee-4fe0-94aa-04fc3468a9ec",
   "metadata": {},
   "outputs": [],
   "source": [
    "X_representative_digits = X_train[representative_digit_idx]"
   ]
  },
  {
   "cell_type": "code",
   "execution_count": null,
   "id": "7aca5cf0-3b99-48f8-b62c-93dca6542bc9",
   "metadata": {},
   "outputs": [],
   "source": [
    "fig,ax = plt.subplots(5,10)\n",
    "for i in range(50):\n",
    "    ax[i//10, i%10].imshow(X_representative_digits[i].reshape(8,8), \n",
    "                           cmap='binary',interpolation=\"bilinear\")\n",
    "    ax[i//10, i%10].axis('off')\n",
    "plt.tight_layout()"
   ]
  },
  {
   "cell_type": "code",
   "execution_count": null,
   "id": "25c3545c-5981-4a6f-b3fd-c5fbecb3a9a3",
   "metadata": {},
   "outputs": [],
   "source": [
    "y_representative_digits = np.array([\n",
    "    1, 8, 4, 6, 0, 5, 1, 7, 2, 2,\n",
    "    9, 5, 3, 4, 8, 2, 4, 1, 1, 9,\n",
    "    5, 7, 6, 8, 3, 6, 0, 9, 1, 5,\n",
    "    3, 7, 0, 7, 1, 2, 5, 4, 7, 6,\n",
    "    6, 8, 3, 4, 1, 7, 9, 9, 9, 2\n",
    "])"
   ]
  },
  {
   "cell_type": "code",
   "execution_count": null,
   "id": "fe43d5ac-d2b1-4190-9fa2-2193e1901c60",
   "metadata": {},
   "outputs": [],
   "source": [
    "log_reg = LogisticRegression(max_iter=5000)\n",
    "log_reg.fit(X_representative_digits, y_representative_digits)\n",
    "log_reg.score(X_test, y_test)"
   ]
  },
  {
   "cell_type": "code",
   "execution_count": null,
   "id": "4857d2d3-04c3-474a-b05e-f0b7db02dbbe",
   "metadata": {},
   "outputs": [],
   "source": [
    "k"
   ]
  },
  {
   "cell_type": "code",
   "execution_count": null,
   "id": "651761e3-1cf5-4c65-a23e-c63ca7e5d7cf",
   "metadata": {},
   "outputs": [],
   "source": [
    "y_train_propagated = np.empty(len(X_train), dtype=np.int64)\n",
    "for i in range(k):\n",
    "    y_train_propagated[kmeans.labels_ == i] = y_representative_digits[i]"
   ]
  },
  {
   "cell_type": "code",
   "execution_count": null,
   "id": "12ec527a-fb3c-4e0d-b37f-7ecb8cec80ec",
   "metadata": {},
   "outputs": [],
   "source": [
    "log_reg = LogisticRegression(max_iter=5000)\n",
    "log_reg.fit(X_train, y_train_propagated)\n",
    "log_reg.score(X_test, y_test)"
   ]
  },
  {
   "cell_type": "markdown",
   "id": "de19ead6-17e0-4f5a-8d68-e053445997f8",
   "metadata": {},
   "source": [
    "# Visualization via PCA & TSNE"
   ]
  },
  {
   "cell_type": "code",
   "execution_count": null,
   "id": "2cfd1ea3-435d-42f1-99e6-18bc0cf695a7",
   "metadata": {},
   "outputs": [],
   "source": [
    "from sklearn.decomposition import PCA\n",
    "from sklearn.manifold import TSNE"
   ]
  },
  {
   "cell_type": "code",
   "execution_count": null,
   "id": "63ce0df8-e96a-4dd4-9ab9-d121519551e6",
   "metadata": {},
   "outputs": [],
   "source": [
    "tsne = TSNE(n_components=2, random_state=42)\n",
    "x_reduced = tsne.fit_transform(X_train)"
   ]
  },
  {
   "cell_type": "code",
   "execution_count": null,
   "id": "6e597a48-c2fb-4a90-8219-bb20ad7090b0",
   "metadata": {},
   "outputs": [],
   "source": [
    "plt.figure(figsize=(8,5))\n",
    "plt.scatter(x_reduced[:, 0], x_reduced[:, 1], c=y_train, cmap=\"jet\")\n",
    "plt.axis('off')\n",
    "plt.colorbar()\n",
    "plt.show()"
   ]
  },
  {
   "cell_type": "code",
   "execution_count": null,
   "id": "f3a65cc7-c6cb-404b-a8c7-4756d155efca",
   "metadata": {},
   "outputs": [],
   "source": [
    "# This is a helper for subsequent cells\n",
    "# Taken from the A. Geron's book's \"plothelp.py\"\n",
    "\n",
    "from sklearn.preprocessing import MinMaxScaler\n",
    "import numpy as np\n",
    "import matplotlib as mpl\n",
    "from matplotlib.offsetbox import AnnotationBbox, OffsetImage\n",
    "\n",
    "def plot_digits(X, y, min_distance=0.05, images=None, figsize=(8, 5)):\n",
    "    # Let's scale the input features so that they range from 0 to 1\n",
    "    X_normalized = MinMaxScaler().fit_transform(X)\n",
    "    # Now we create the list of coordinates of the digits plotted so far.\n",
    "    # We pretend that one is already plotted far away at the start, to\n",
    "    # avoid `if` statements in the loop below\n",
    "    neighbors = np.array([[10., 10.]])\n",
    "    # The rest should be self-explanatory\n",
    "    plt.figure(figsize=figsize)\n",
    "    cmap = mpl.cm.get_cmap(\"jet\")\n",
    "    digits = np.unique(y)\n",
    "    for digit in digits:\n",
    "        plt.scatter(X_normalized[y == digit, 0], X_normalized[y == digit, 1], c=[cmap(digit / 9)])\n",
    "    plt.axis(\"off\")\n",
    "    ax = plt.gcf().gca()  # get current axes in current figure\n",
    "    for index, image_coord in enumerate(X_normalized):\n",
    "        closest_distance = np.linalg.norm(neighbors - image_coord, axis=1).min()\n",
    "        if closest_distance > min_distance:\n",
    "            neighbors = np.r_[neighbors, [image_coord]]\n",
    "            if images is None:\n",
    "                plt.text(image_coord[0], image_coord[1], str(int(y[index])),\n",
    "                         color=cmap(y[index] / 9), fontdict={\"weight\": \"bold\", \"size\": 16})\n",
    "            else:\n",
    "                image = images[index].reshape(28, 28)\n",
    "                imagebox = AnnotationBbox(OffsetImage(image, cmap=\"binary\"), image_coord)\n",
    "                ax.add_artist(imagebox)"
   ]
  },
  {
   "cell_type": "code",
   "execution_count": null,
   "id": "fc33da5f-bfff-42ab-8eea-7b5c0fc7f747",
   "metadata": {},
   "outputs": [],
   "source": [
    "pca95 = PCA(n_components=0.95, random_state=42)\n",
    "x_pca = pca95.fit_transform(X_train)\n",
    "x_pca.shape, X_train.shape"
   ]
  },
  {
   "cell_type": "code",
   "execution_count": null,
   "id": "9eeee798-d1d5-459f-9896-fb6a7be80ad6",
   "metadata": {},
   "outputs": [],
   "source": [
    "from sklearn.pipeline import Pipeline"
   ]
  },
  {
   "cell_type": "code",
   "execution_count": null,
   "id": "c850495f-9577-4326-b197-26a8860b5b60",
   "metadata": {},
   "outputs": [],
   "source": [
    "pca_tsne = Pipeline([\n",
    "    (\"pca\", PCA(n_components=0.95, random_state=42)),\n",
    "    (\"tsne\", TSNE(n_components=2, random_state=42)),\n",
    "])\n",
    "\n",
    "x_pca_tsne_reduced = pca_tsne.fit_transform(X_train)\n",
    "\n",
    "plot_digits(x_pca_tsne_reduced, y_train)\n",
    "plt.show()"
   ]
  }
 ],
 "metadata": {
  "kernelspec": {
   "display_name": "Python 3 (ipykernel)",
   "language": "python",
   "name": "python3"
  },
  "language_info": {
   "codemirror_mode": {
    "name": "ipython",
    "version": 3
   },
   "file_extension": ".py",
   "mimetype": "text/x-python",
   "name": "python",
   "nbconvert_exporter": "python",
   "pygments_lexer": "ipython3",
   "version": "3.10.16"
  }
 },
 "nbformat": 4,
 "nbformat_minor": 5
}
