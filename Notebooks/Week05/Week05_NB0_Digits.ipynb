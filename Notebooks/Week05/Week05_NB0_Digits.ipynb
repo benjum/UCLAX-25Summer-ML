{
 "cells": [
  {
   "cell_type": "markdown",
   "id": "702a52d0-2806-4a93-8243-2e488aec74be",
   "metadata": {},
   "source": [
    "## Example of ML on Images:  Classifying Handwritten Digits"
   ]
  },
  {
   "cell_type": "code",
   "execution_count": null,
   "id": "14c49eba-4984-4d7c-852c-9f3315b8d649",
   "metadata": {},
   "outputs": [],
   "source": [
    "import numpy as np\n",
    "import matplotlib.pyplot as plt\n",
    "import sklearn.datasets\n",
    "import sklearn.model_selection\n",
    "import sklearn.metrics\n",
    "import dtreeviz\n",
    "import ipywidgets"
   ]
  },
  {
   "cell_type": "markdown",
   "id": "811fbf4c-ea6b-4acf-82f1-0e6466a1e1c6",
   "metadata": {},
   "source": [
    "We use the toy digit dataset provided by scikit-learn.  \n",
    "\n",
    "(We will also find it fun later to try our hand at the full MNIST dataset, one of the classic initial problems for budding machine-learning practicioners.)"
   ]
  },
  {
   "cell_type": "code",
   "execution_count": null,
   "id": "4483ce3b-9f1a-4c95-8d8c-584a4e0bbbb1",
   "metadata": {},
   "outputs": [],
   "source": [
    "d = sklearn.datasets.load_digits()"
   ]
  },
  {
   "cell_type": "code",
   "execution_count": null,
   "id": "f7614fcd-1d24-4ccb-96bb-f7fbe43b8450",
   "metadata": {},
   "outputs": [],
   "source": [
    "print(d.DESCR)"
   ]
  },
  {
   "cell_type": "code",
   "execution_count": null,
   "id": "a3c23bbb-17b4-487c-abb7-8057737521fd",
   "metadata": {},
   "outputs": [],
   "source": [
    "x = d.data\n",
    "y = d.target"
   ]
  },
  {
   "cell_type": "code",
   "execution_count": null,
   "id": "5dc9ad95-7a4f-4144-8442-9ea1285cd2ca",
   "metadata": {},
   "outputs": [],
   "source": [
    "x.shape"
   ]
  },
  {
   "cell_type": "code",
   "execution_count": null,
   "id": "45562dc7-b7b2-496a-b19b-d2dc9bbb666e",
   "metadata": {},
   "outputs": [],
   "source": [
    "y.shape"
   ]
  },
  {
   "cell_type": "code",
   "execution_count": null,
   "id": "c87995c4-adc7-4ed1-bf4c-44c0c058c176",
   "metadata": {},
   "outputs": [],
   "source": [
    "x[0]"
   ]
  },
  {
   "cell_type": "code",
   "execution_count": null,
   "id": "3c552e99-3f17-47d0-b8f0-19d77c4dfc9f",
   "metadata": {},
   "outputs": [],
   "source": [
    "y[0]"
   ]
  },
  {
   "cell_type": "markdown",
   "id": "530aa893-ce0d-485d-bf3e-b1d3cffe114b",
   "metadata": {},
   "source": [
    "The samples consist of 64 features, one for each pixel value of an 8x8 image array.  We can reshape the sample into an 8x8 array in order to visualize it."
   ]
  },
  {
   "cell_type": "code",
   "execution_count": null,
   "id": "24d33b12-bd83-4c33-8245-b318894c4696",
   "metadata": {},
   "outputs": [],
   "source": [
    "sample = x[4].reshape(8,8)\n",
    "plt.imshow(sample, cmap='binary')"
   ]
  },
  {
   "cell_type": "code",
   "execution_count": null,
   "id": "60d39beb-140b-4d74-9a06-d4d8867b6614",
   "metadata": {},
   "outputs": [],
   "source": [
    "for i in range(100):\n",
    "    plt.subplot(10,10,i+1)\n",
    "    sample = x[i].reshape(8,8)\n",
    "    plt.imshow(sample, cmap='binary')"
   ]
  },
  {
   "cell_type": "code",
   "execution_count": null,
   "id": "d84bc854-8edf-4d36-8ff2-43197d35b0cd",
   "metadata": {},
   "outputs": [],
   "source": [
    "x_train, x_test, y_train, y_test = sklearn.model_selection.train_test_split(\n",
    "        x, y, test_size=0.2, random_state=42)"
   ]
  },
  {
   "cell_type": "markdown",
   "id": "59257867-907f-4f56-8f24-2d2b3c7a7775",
   "metadata": {},
   "source": [
    "One catch to watch out for in splitting up your data into training and test sets:  stratification.\n",
    "\n",
    "Let's say you have a dataset that has 90% cat images and 10% dog images.  If you split your data and end up with 99% cats in your training data and 1% dogs, you'll be training your model on an unrepresentative sample.  (Sampling issues like this can be much more consequential and damaging than distinguishing cats from dogs!)"
   ]
  },
  {
   "cell_type": "code",
   "execution_count": null,
   "id": "cdbb5b75-2764-4572-b5f8-82765c30d9af",
   "metadata": {},
   "outputs": [],
   "source": [
    "plt.hist([y, y_train]);"
   ]
  },
  {
   "cell_type": "markdown",
   "id": "82a1e8c0-4a91-4118-a165-1250c3e07d59",
   "metadata": {},
   "source": [
    "Here the difference in percentages is noticeable but not too significant by eye.  Nevertheless, we can stratify our split properly by including the \"stratify\" parameter and assigning it our target variable."
   ]
  },
  {
   "cell_type": "code",
   "execution_count": null,
   "id": "6b7c4692-a0c8-4991-949e-7541a5bb34e0",
   "metadata": {},
   "outputs": [],
   "source": [
    "x_train, x_test, y_train, y_test = sklearn.model_selection.train_test_split(\n",
    "        x, y, test_size=0.2, random_state=42, stratify=y)"
   ]
  },
  {
   "cell_type": "code",
   "execution_count": null,
   "id": "f93234e5-0dd8-469e-9f31-86078c148430",
   "metadata": {},
   "outputs": [],
   "source": [
    "plt.hist([y, y_train]);"
   ]
  },
  {
   "cell_type": "markdown",
   "id": "a4a78858-15da-4bfe-bc09-a8a1b444109b",
   "metadata": {},
   "source": [
    "## Logistic Regression"
   ]
  },
  {
   "cell_type": "code",
   "execution_count": null,
   "id": "cb964029-aee4-4d0e-b9bb-cd7017cf59d5",
   "metadata": {},
   "outputs": [],
   "source": [
    "import sklearn.linear_model\n",
    "lr_classifier = sklearn.linear_model.LogisticRegression()"
   ]
  },
  {
   "cell_type": "code",
   "execution_count": null,
   "id": "7dc8bca1-5d79-4b59-b65a-5a716b282fbe",
   "metadata": {},
   "outputs": [],
   "source": [
    "lr_classifier.fit(x_train, y_train)"
   ]
  },
  {
   "cell_type": "markdown",
   "id": "0e8d52bf-9812-4bcf-9091-03b0a9fb67d9",
   "metadata": {},
   "source": [
    "It will not be uncommon for you to run into scenarios in which you encounter warnings or errors when trying to train models.\n",
    "\n",
    "In such cases, they can be fruitful opportunities to consult the documentation and learn more about various training options.\n",
    "\n",
    "Here, the error message gives us clues about potentially insightful documentation.\n",
    "\n",
    "To fast-forward, it will be useful here for Logistic Regression if we rescale our sample data from being integer values over [0:16] to being continuous values scaled to have a normal distribution of values -> the sklearn StandardScaler will rescale the features to have 0 mean and unit variance."
   ]
  },
  {
   "cell_type": "code",
   "execution_count": null,
   "id": "b6e18309-0f4e-4db0-883b-8d620926a76d",
   "metadata": {},
   "outputs": [],
   "source": [
    "import sklearn.preprocessing"
   ]
  },
  {
   "cell_type": "code",
   "execution_count": null,
   "id": "c50fcba6-7350-4d37-aa8b-77bd2b36d2b2",
   "metadata": {},
   "outputs": [],
   "source": [
    "scaler = sklearn.preprocessing.StandardScaler()"
   ]
  },
  {
   "cell_type": "code",
   "execution_count": null,
   "id": "c4304d87-0b7d-44de-8afe-2b69fed14362",
   "metadata": {},
   "outputs": [],
   "source": [
    "x_scaled = scaler.fit_transform(x_train)"
   ]
  },
  {
   "cell_type": "code",
   "execution_count": null,
   "id": "1807c2fd-a0a8-44a4-9e56-8b97acf7e31d",
   "metadata": {},
   "outputs": [],
   "source": [
    "x_scaled[0]"
   ]
  },
  {
   "cell_type": "markdown",
   "id": "f15deb6a-26b1-4556-8d50-ee52acdd813e",
   "metadata": {},
   "source": [
    "Here's the difference in image between original and rescaled."
   ]
  },
  {
   "cell_type": "code",
   "execution_count": null,
   "id": "0c165e98-ddcd-400e-afc0-bf22af694041",
   "metadata": {},
   "outputs": [],
   "source": [
    "sample1 = x_train[7].reshape(8,8)\n",
    "sample2 = x_scaled[7].reshape(8,8)\n",
    "\n",
    "fig,ax = plt.subplots(1,2)\n",
    "ax[0].imshow(sample1, cmap='binary')\n",
    "ax[1].imshow(sample2, cmap='binary')"
   ]
  },
  {
   "cell_type": "code",
   "execution_count": null,
   "id": "ecd33ad7-9e57-4dd5-b60c-a584a3c83255",
   "metadata": {},
   "outputs": [],
   "source": [
    "for i in range(100):\n",
    "    plt.subplot(10,10,i+1)\n",
    "    sample = x_scaled[i].reshape(8,8)\n",
    "    plt.imshow(sample, cmap='binary')"
   ]
  },
  {
   "cell_type": "code",
   "execution_count": null,
   "id": "68349695-2b06-47ba-8cb8-ca798cb288d0",
   "metadata": {},
   "outputs": [],
   "source": [
    "lr_classifier.fit(x_scaled, y_train)"
   ]
  },
  {
   "cell_type": "code",
   "execution_count": null,
   "id": "502a4cb5-0e73-44a7-bd19-528d33af1865",
   "metadata": {},
   "outputs": [],
   "source": [
    "lr_classifier.predict(x_scaled[[7]])"
   ]
  },
  {
   "cell_type": "code",
   "execution_count": null,
   "id": "f5ee8e4d-d7de-48af-bf95-6b038921c3d4",
   "metadata": {},
   "outputs": [],
   "source": [
    "y_train[7]"
   ]
  },
  {
   "cell_type": "markdown",
   "id": "1a283fc6-521b-424a-95a8-3ae1587596c9",
   "metadata": {},
   "source": [
    "Our classifier was trained on scaled data, so we must scale any new data similarly (though we only need to do the transform now, not the fit.)"
   ]
  },
  {
   "cell_type": "code",
   "execution_count": null,
   "id": "3f963882-735f-4667-b25a-95dc292c0bed",
   "metadata": {},
   "outputs": [],
   "source": [
    "x_test_scaled = scaler.transform(x_test)"
   ]
  },
  {
   "cell_type": "code",
   "execution_count": null,
   "id": "e7bb8fca-4de4-4b3d-898b-b06e53cbe97b",
   "metadata": {},
   "outputs": [],
   "source": [
    "y_pred = lr_classifier.predict(x_test_scaled)"
   ]
  },
  {
   "cell_type": "code",
   "execution_count": null,
   "id": "49e25ef5",
   "metadata": {},
   "outputs": [],
   "source": [
    "print(f\"Accuracy: {sklearn.metrics.accuracy_score(y_test, y_pred):.2%}\")"
   ]
  },
  {
   "cell_type": "code",
   "execution_count": null,
   "id": "52f6f814-d655-4855-8e8c-7f7039ed4158",
   "metadata": {},
   "outputs": [],
   "source": [
    "cm = sklearn.metrics.confusion_matrix(y_test, y_pred)\n",
    "cm"
   ]
  },
  {
   "cell_type": "markdown",
   "id": "2792bad9",
   "metadata": {},
   "source": [
    "In contrast with binary classification, calculating precision and recall (and etc) for multi-class classification problems can be computed in slightly different ways depending on how one does averaging. \n",
    "\n",
    "Micro-average:  equal importance to each instance.  Gives a global perspective of performance where overall performance is more important than class-specific performance.  \n",
    "\n",
    "Macro-average:  equal importance to each class.  Computes the metric independently for each class and then takes the average (hence treating all classes equally). Can be useful if you don't want the performance metric to be dominated by the performance of the majority class.\n",
    "\n",
    "Weighted average:  assign weights to each class before averaging.  Helpful if the performance on certain classes is critical or more reflective of real-world scenarios."
   ]
  },
  {
   "cell_type": "code",
   "execution_count": null,
   "id": "feae11f5",
   "metadata": {},
   "outputs": [],
   "source": [
    "from sklearn.metrics import classification_report"
   ]
  },
  {
   "cell_type": "code",
   "execution_count": null,
   "id": "f76a8164",
   "metadata": {},
   "outputs": [],
   "source": [
    "print(classification_report(y_test, y_pred))"
   ]
  },
  {
   "cell_type": "code",
   "execution_count": null,
   "id": "392b31af",
   "metadata": {},
   "outputs": [],
   "source": [
    "print(f\"Accuracy: {sklearn.metrics.accuracy_score(y_test, y_pred):.2%}\")\n",
    "print(f\"Precision: {sklearn.metrics.precision_score(y_test, y_pred, average='micro'):.2%}\")\n",
    "print(f\"Recall: {sklearn.metrics.recall_score(y_test, y_pred, average='micro'):.2%}\")"
   ]
  },
  {
   "cell_type": "code",
   "execution_count": null,
   "id": "090a86f4",
   "metadata": {},
   "outputs": [],
   "source": [
    "print(f\"Accuracy: {sklearn.metrics.accuracy_score(y_test, y_pred):.2%}\")\n",
    "print(f\"Precision: {sklearn.metrics.precision_score(y_test, y_pred, average='macro'):.2%}\")\n",
    "print(f\"Recall: {sklearn.metrics.recall_score(y_test, y_pred, average='macro'):.2%}\")"
   ]
  },
  {
   "cell_type": "markdown",
   "id": "007d26aa-2b2c-4b00-ae9b-b4aaf56b7947",
   "metadata": {},
   "source": [
    "# Decision tree"
   ]
  },
  {
   "cell_type": "code",
   "execution_count": null,
   "id": "74f0046b-d36a-45be-8dd3-68c654edd2fb",
   "metadata": {},
   "outputs": [],
   "source": [
    "from sklearn.tree import DecisionTreeClassifier\n",
    "tree_clf = DecisionTreeClassifier()"
   ]
  },
  {
   "cell_type": "code",
   "execution_count": null,
   "id": "e1fe4d4c-c6c2-41da-baff-c32b67623e8e",
   "metadata": {},
   "outputs": [],
   "source": [
    "tree_clf.fit(x_train, y_train)"
   ]
  },
  {
   "cell_type": "code",
   "execution_count": null,
   "id": "ee7db283-6a42-4700-9d78-e48443277c06",
   "metadata": {},
   "outputs": [],
   "source": [
    "tree_clf.classes_"
   ]
  },
  {
   "cell_type": "code",
   "execution_count": null,
   "id": "b3ed6f95-9d82-4fa7-a75f-a508b87c0cdc",
   "metadata": {},
   "outputs": [],
   "source": [
    "y_pred = tree_clf.predict(x_test)"
   ]
  },
  {
   "cell_type": "code",
   "execution_count": null,
   "id": "2e7ecd4f-47e9-4c22-97b1-50161bf69746",
   "metadata": {},
   "outputs": [],
   "source": [
    "cm = sklearn.metrics.confusion_matrix(y_test, y_pred)\n",
    "cm"
   ]
  },
  {
   "cell_type": "code",
   "execution_count": null,
   "id": "cdfb0e7a-b567-4938-b309-ab5bbe249cdf",
   "metadata": {},
   "outputs": [],
   "source": [
    "print(f\"Accuracy: {sklearn.metrics.accuracy_score(y_test, y_pred):.2%}\")"
   ]
  },
  {
   "cell_type": "markdown",
   "id": "99f0615d-6ec9-411e-ae24-faec07b91e28",
   "metadata": {},
   "source": [
    "### Interpretation?"
   ]
  },
  {
   "cell_type": "code",
   "execution_count": null,
   "id": "362a3a5e-4b84-478b-9396-3c3c0e78eaa1",
   "metadata": {
    "scrolled": true
   },
   "outputs": [],
   "source": [
    "text_representation = sklearn.tree.export_text(tree_clf)\n",
    "print(text_representation)"
   ]
  },
  {
   "cell_type": "code",
   "execution_count": null,
   "id": "8f61c57e-a41a-421e-8306-2b950293dd44",
   "metadata": {},
   "outputs": [],
   "source": [
    "tree_clf.classes_"
   ]
  },
  {
   "cell_type": "code",
   "execution_count": null,
   "id": "b41a9c31-d778-4d5a-8a93-e1c8f0eb0c07",
   "metadata": {},
   "outputs": [],
   "source": [
    "plt.figure(figsize=(12,8))\n",
    "sklearn.tree.plot_tree(tree_clf, \n",
    "               feature_names=range(64),  \n",
    "               class_names=[str(i) for i in tree_clf.classes_],\n",
    "               filled=True);"
   ]
  },
  {
   "cell_type": "code",
   "execution_count": null,
   "id": "78ecac11-824a-4c08-9fc2-e58eed2e6f1b",
   "metadata": {},
   "outputs": [],
   "source": [
    "%%capture --no-display\n",
    "\n",
    "vizmodel = dtreeviz.model(tree_clf, \n",
    "         x,\n",
    "         y,\n",
    "         feature_names=range(64),\n",
    "         class_names=[i for i in tree_clf.classes_],\n",
    "         target_name=\"y\")\n",
    "\n",
    "vizmodel.view()"
   ]
  },
  {
   "cell_type": "markdown",
   "id": "9eb79081-f081-4f88-804f-9b3c03f8adce",
   "metadata": {},
   "source": [
    "# Random Forest"
   ]
  },
  {
   "cell_type": "code",
   "execution_count": null,
   "id": "5aa3579a-0a2b-4028-a19a-d56f3e1b2883",
   "metadata": {},
   "outputs": [],
   "source": [
    "from sklearn.ensemble import RandomForestClassifier\n",
    "rf_clf = RandomForestClassifier()"
   ]
  },
  {
   "cell_type": "code",
   "execution_count": null,
   "id": "019db9dd-7f08-478e-8a65-f0b3cd9c0c7e",
   "metadata": {},
   "outputs": [],
   "source": [
    "rf_clf.fit(x_train, y_train)"
   ]
  },
  {
   "cell_type": "code",
   "execution_count": null,
   "id": "4cdb3c5d-9d23-4625-9b8c-5ed42c688e62",
   "metadata": {},
   "outputs": [],
   "source": [
    "rf_clf.classes_"
   ]
  },
  {
   "cell_type": "code",
   "execution_count": null,
   "id": "898db814-8753-4fcc-a1ed-b0a3a307879e",
   "metadata": {},
   "outputs": [],
   "source": [
    "y_pred = rf_clf.predict(x_test)"
   ]
  },
  {
   "cell_type": "code",
   "execution_count": null,
   "id": "5efecd5e-ecee-48f6-8be2-28f6dc3d60b5",
   "metadata": {},
   "outputs": [],
   "source": [
    "cm = sklearn.metrics.confusion_matrix(y_test, y_pred)\n",
    "cm"
   ]
  },
  {
   "cell_type": "code",
   "execution_count": null,
   "id": "ef216371-54ef-4390-a0d3-27ca20cd2d2f",
   "metadata": {},
   "outputs": [],
   "source": [
    "print(f\"Accuracy: {sklearn.metrics.accuracy_score(y_test, lr_classifier.predict(x_test_scaled)):.2%}\")\n",
    "print(f\"Accuracy: {sklearn.metrics.accuracy_score(y_test, tree_clf.predict(x_test)):.2%}\")\n",
    "print(f\"Accuracy: {sklearn.metrics.accuracy_score(y_test, rf_clf.predict(x_test)):.2%}\")"
   ]
  },
  {
   "cell_type": "markdown",
   "id": "a5b0d71b-ef76-4986-9e4a-b95f2aae72d0",
   "metadata": {},
   "source": [
    "Can we improve the Random Forest accuracy?\n",
    "\n",
    "Actually, what parameters does it currently have?"
   ]
  },
  {
   "cell_type": "code",
   "execution_count": null,
   "id": "86cb2414-9110-45dd-bd38-2d8469aae253",
   "metadata": {},
   "outputs": [],
   "source": [
    "rf_clf.get_params()"
   ]
  },
  {
   "cell_type": "code",
   "execution_count": null,
   "id": "32c2415a-9912-4bf9-9f4a-a7d3d15d4dad",
   "metadata": {},
   "outputs": [],
   "source": [
    "from sklearn.model_selection import GridSearchCV"
   ]
  },
  {
   "cell_type": "code",
   "execution_count": null,
   "id": "9d632f17-fa23-4f2d-bac6-a8cdc79dee30",
   "metadata": {},
   "outputs": [],
   "source": [
    "cv_grid = GridSearchCV(RandomForestClassifier(n_jobs=-1,random_state=42),\n",
    "                       param_grid = {\n",
    "                           'max_depth' : [None,10,20],\n",
    "                           'n_estimators' : [50,100,200],\n",
    "                           'max_leaf_nodes' : [None,5,10]\n",
    "                       })\n",
    "cv_grid.fit(x_train, y_train)\n",
    "cv_grid.best_params_"
   ]
  },
  {
   "cell_type": "code",
   "execution_count": null,
   "id": "e65d15df-8ea5-4e6e-8fd6-4f5f55bfb1f3",
   "metadata": {},
   "outputs": [],
   "source": [
    "y_pred = cv_grid.predict(x_test)"
   ]
  },
  {
   "cell_type": "code",
   "execution_count": null,
   "id": "f6b52af3-5947-4cc2-86df-54840b744288",
   "metadata": {},
   "outputs": [],
   "source": [
    "cm = sklearn.metrics.confusion_matrix(y_test, y_pred)\n",
    "cm"
   ]
  },
  {
   "cell_type": "code",
   "execution_count": null,
   "id": "01c81f1c-82f7-4445-b1ec-7ab1f87e346f",
   "metadata": {},
   "outputs": [],
   "source": [
    "print(f\"Accuracy: {sklearn.metrics.accuracy_score(y_test, y_pred):.2%}\")"
   ]
  },
  {
   "cell_type": "markdown",
   "id": "e8f67601-053e-428c-bfad-947ce4943ea5",
   "metadata": {},
   "source": [
    "### Interpretation?"
   ]
  },
  {
   "cell_type": "code",
   "execution_count": null,
   "id": "05b5bc37-baa2-4116-aa78-047ba61bd92a",
   "metadata": {},
   "outputs": [],
   "source": [
    "rf_clf.estimators_[0]"
   ]
  },
  {
   "cell_type": "code",
   "execution_count": null,
   "id": "d95096a1-4b9b-40a1-946a-93425d1722cd",
   "metadata": {},
   "outputs": [],
   "source": [
    "def plttrees(t=0):\n",
    "    plt.figure(figsize=(12,8))\n",
    "    sklearn.tree.plot_tree(rf_clf.estimators_[t], \n",
    "               feature_names=range(64),  \n",
    "               class_names=[str(i) for i in tree_clf.classes_],\n",
    "               filled=True);\n",
    "\n",
    "ipywidgets.interact(plttrees, t=range(len(rf_clf.estimators_)));"
   ]
  },
  {
   "cell_type": "code",
   "execution_count": null,
   "id": "0962eebe-a77e-4291-891b-11d858da598c",
   "metadata": {},
   "outputs": [],
   "source": [
    "rf_clf.feature_importances_"
   ]
  },
  {
   "cell_type": "code",
   "execution_count": null,
   "id": "26aad9d7-825a-4a54-8e26-23e09c9861d0",
   "metadata": {},
   "outputs": [],
   "source": [
    "plt.imshow(rf_clf.feature_importances_.reshape(8,8),\n",
    "           cmap='binary')"
   ]
  },
  {
   "cell_type": "markdown",
   "id": "0407c955",
   "metadata": {},
   "source": [
    "# Interpretability for Logistic Regression"
   ]
  },
  {
   "cell_type": "markdown",
   "id": "24f15e1b",
   "metadata": {},
   "source": [
    "For logistic regression, we have a model and we've learned its coefficients:"
   ]
  },
  {
   "cell_type": "code",
   "execution_count": null,
   "id": "d03fb0ee",
   "metadata": {},
   "outputs": [],
   "source": [
    "lr_classifier.coef_.shape"
   ]
  },
  {
   "cell_type": "markdown",
   "id": "656070c5",
   "metadata": {},
   "source": [
    "What are the 640 coefficients telling us?"
   ]
  },
  {
   "cell_type": "markdown",
   "id": "75f30544",
   "metadata": {},
   "source": [
    "We've learned before that logistic regression was finding the coefficients for the logistic curve:\n",
    "$$ f(x) = \\frac{1}{1 + e^{-\\theta^T x}} $$\n",
    "\n",
    "There are a few ways to tackle multi-category classification.  The default for logistic regression is to learn coefficients for the softmax function:\n",
    "$$ P(y = j | x) = \\frac{e^{\\theta_k^T x}}{\\Sigma_{k=1}^{K}{e^{\\theta_k^T x}}} $$\n",
    "\n",
    "The basic gist for this problem is that there are:\n",
    "* 64 features (the pixels)\n",
    "* 10 classes (K = 10 for the softmax equation)\n",
    "* softmax is very nice because all probabilities sum to 1 and the class with the largest probability is the predicted class"
   ]
  },
  {
   "cell_type": "code",
   "execution_count": null,
   "id": "b63f2b83",
   "metadata": {},
   "outputs": [],
   "source": [
    "denominator = 0\n",
    "for i in range(10):\n",
    "    denominator += np.exp((lr_classifier.intercept_[i] +\n",
    "                           np.dot(x_test[0], lr_classifier.coef_[i])))\n",
    "for i in range(10):\n",
    "    prob = np.exp((lr_classifier.intercept_[i] +\n",
    "                   np.dot(x_test[0], lr_classifier.coef_[i]))) / denominator\n",
    "    print(\"P(y={:d}|x_test[0]) = {:.2e} = {:.2f}\".format(i,prob,prob))"
   ]
  },
  {
   "cell_type": "code",
   "execution_count": null,
   "id": "f4ef7b5c",
   "metadata": {},
   "outputs": [],
   "source": [
    "lr_classifier.predict_proba([x_test[0]])"
   ]
  },
  {
   "cell_type": "code",
   "execution_count": null,
   "id": "e2372bea",
   "metadata": {},
   "outputs": [],
   "source": [
    "np.sum(lr_classifier.predict_proba([x_test[0]]))"
   ]
  },
  {
   "cell_type": "code",
   "execution_count": null,
   "id": "cb3de539",
   "metadata": {},
   "outputs": [],
   "source": [
    "np.argmax(lr_classifier.predict_proba([x_test[0]]))"
   ]
  },
  {
   "cell_type": "code",
   "execution_count": null,
   "id": "41f14af1",
   "metadata": {},
   "outputs": [],
   "source": [
    "lr_classifier.predict([x_test[0]])"
   ]
  },
  {
   "cell_type": "code",
   "execution_count": null,
   "id": "0966e2d9",
   "metadata": {},
   "outputs": [],
   "source": [
    "plt.bar(range(10),lr_classifier.predict_proba([x_test[0]])[0])"
   ]
  },
  {
   "cell_type": "markdown",
   "id": "916ef2a1",
   "metadata": {},
   "source": [
    "It's good to know the equation, but that's a complex equation with a lot of coefficients to interpret.\n",
    "\n",
    "Can we get insights into why a number got misclassified?"
   ]
  },
  {
   "cell_type": "code",
   "execution_count": null,
   "id": "4191bd7e",
   "metadata": {},
   "outputs": [],
   "source": [
    "elem = 0\n",
    "plt.imshow(x_test[elem].reshape(8,8), cmap='binary');\n",
    "print('Real value:',y_test[elem])\n",
    "print('Predicted value:',lr_classifier.predict([x_test[elem]]))"
   ]
  },
  {
   "cell_type": "markdown",
   "id": "d27306b5",
   "metadata": {},
   "source": [
    "We will revisit the general topic of interpretation + ML."
   ]
  }
 ],
 "metadata": {
  "kernelspec": {
   "display_name": "Python 3 (ipykernel)",
   "language": "python",
   "name": "python3"
  },
  "language_info": {
   "codemirror_mode": {
    "name": "ipython",
    "version": 3
   },
   "file_extension": ".py",
   "mimetype": "text/x-python",
   "name": "python",
   "nbconvert_exporter": "python",
   "pygments_lexer": "ipython3",
   "version": "3.10.16"
  }
 },
 "nbformat": 4,
 "nbformat_minor": 5
}
